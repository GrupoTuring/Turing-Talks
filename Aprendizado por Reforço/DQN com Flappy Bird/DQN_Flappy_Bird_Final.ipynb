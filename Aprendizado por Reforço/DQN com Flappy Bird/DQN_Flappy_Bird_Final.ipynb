{
  "nbformat": 4,
  "nbformat_minor": 0,
  "metadata": {
    "colab": {
      "name": "Copy of DQN_Flappy_Bird.ipynb",
      "provenance": [],
      "collapsed_sections": []
    },
    "kernelspec": {
      "name": "python3",
      "display_name": "Python 3",
      "language": "python"
    },
    "accelerator": "GPU"
  },
  "cells": [
    {
      "source": [
        "# Ensinando uma rede neural a jogar Flappy Bird\n",
        "\n",
        "> Para esse tutorial é recomendado que seu python esteja com uma versãodo python igual ou inferior à 3.8.5, também será preciso as seguitnes bibliotecas: (para instalá-las é necessário que você tenha [git instalado](https://git-scm.com/downloads) em seu computador):"
      ],
      "cell_type": "markdown",
      "metadata": {}
    },
    {
      "cell_type": "code",
      "metadata": {
        "colab": {
          "base_uri": "https://localhost:8080/"
        },
        "id": "iGXjxJL3wmK4",
        "outputId": "3debd6a8-be3e-4117-ac99-93206a9b2a07"
      },
      "source": [
        "!pip install pygame\r\n",
        "!pip install gym\r\n",
        "!pip install git+https://github.com/GrupoTuring/PyGame-Learning-Environment\r\n",
        "!pip install git+https://github.com/lusob/gym-ple"
      ],
      "execution_count": 1,
      "outputs": [
        {
          "output_type": "stream",
          "text": [
            "Requirement already satisfied: pygame in /usr/local/lib/python3.6/dist-packages (2.0.1)\n",
            "Requirement already satisfied: gym in /usr/local/lib/python3.6/dist-packages (0.17.3)\n",
            "Requirement already satisfied: cloudpickle<1.7.0,>=1.2.0 in /usr/local/lib/python3.6/dist-packages (from gym) (1.3.0)\n",
            "Requirement already satisfied: numpy>=1.10.4 in /usr/local/lib/python3.6/dist-packages (from gym) (1.19.5)\n",
            "Requirement already satisfied: pyglet<=1.5.0,>=1.4.0 in /usr/local/lib/python3.6/dist-packages (from gym) (1.5.0)\n",
            "Requirement already satisfied: scipy in /usr/local/lib/python3.6/dist-packages (from gym) (1.4.1)\n",
            "Requirement already satisfied: future in /usr/local/lib/python3.6/dist-packages (from pyglet<=1.5.0,>=1.4.0->gym) (0.16.0)\n",
            "Collecting git+https://github.com/GrupoTuring/PyGame-Learning-Environment\n",
            "  Cloning https://github.com/GrupoTuring/PyGame-Learning-Environment to /tmp/pip-req-build-qy1iqx6r\n",
            "  Running command git clone -q https://github.com/GrupoTuring/PyGame-Learning-Environment /tmp/pip-req-build-qy1iqx6r\n",
            "Requirement already satisfied (use --upgrade to upgrade): ple==0.0.2 from git+https://github.com/GrupoTuring/PyGame-Learning-Environment in /usr/local/lib/python3.6/dist-packages\n",
            "Requirement already satisfied: numpy in /usr/local/lib/python3.6/dist-packages (from ple==0.0.2) (1.19.5)\n",
            "Requirement already satisfied: Pillow in /usr/local/lib/python3.6/dist-packages (from ple==0.0.2) (7.0.0)\n",
            "Building wheels for collected packages: ple\n",
            "  Building wheel for ple (setup.py) ... \u001b[?25l\u001b[?25hdone\n",
            "  Created wheel for ple: filename=ple-0.0.2-cp36-none-any.whl size=723162 sha256=422392ef5e46c65ad81586b667f8d3049238b3bd8c44cbf5000fd427f31e3679\n",
            "  Stored in directory: /tmp/pip-ephem-wheel-cache-zinm11xy/wheels/5b/b8/0e/ab7afe74867162d176c7d3991c02967becfbe5469089890c50\n",
            "Successfully built ple\n",
            "Collecting git+https://github.com/lusob/gym-ple\n",
            "  Cloning https://github.com/lusob/gym-ple to /tmp/pip-req-build-4l562x6o\n",
            "  Running command git clone -q https://github.com/lusob/gym-ple /tmp/pip-req-build-4l562x6o\n",
            "Requirement already satisfied (use --upgrade to upgrade): gym-ple==0.3 from git+https://github.com/lusob/gym-ple in /usr/local/lib/python3.6/dist-packages\n",
            "Building wheels for collected packages: gym-ple\n",
            "  Building wheel for gym-ple (setup.py) ... \u001b[?25l\u001b[?25hdone\n",
            "  Created wheel for gym-ple: filename=gym_ple-0.3-cp36-none-any.whl size=5327 sha256=920b85d3cc145a0685cc39b454d998a8b0a7ce3ee59f6441f7b94b4a9db643e3\n",
            "  Stored in directory: /tmp/pip-ephem-wheel-cache-tlx_xbtx/wheels/95/71/23/9b8b2d8095d61cabe8ecb23c4141b53eaad8e7174cfbb414d3\n",
            "Successfully built gym-ple\n"
          ],
          "name": "stdout"
        }
      ]
    },
    {
      "source": [
        "## Preparando e conhecendo nosso ambiente"
      ],
      "cell_type": "markdown",
      "metadata": {}
    },
    {
      "cell_type": "code",
      "execution_count": null,
      "metadata": {},
      "outputs": [],
      "source": [
        "import gym_ple as gym"
      ]
    },
    {
      "source": [
        "### Agente aleatório\n",
        "\n",
        "**OBS: se você está rodando esse código np Google Collab você precisa comentar (adicionar #) no env.render()**\n",
        "\n",
        "Vamos criar um agente aleatório para ver se está tudo certo com as bibliotecas:"
      ],
      "cell_type": "markdown",
      "metadata": {}
    },
    {
      "cell_type": "code",
      "execution_count": 1,
      "metadata": {},
      "outputs": [],
      "source": [
        "env = gym.make(\"FlappyBird-v0\")\n",
        "env.reset()\n",
        "obs = [v for _, v in sorted(env.unwrapped.game_state.getGameState().items())]\n",
        "\n",
        "while True:\n",
        "    obs, rew, done, info = env.step(env.action_space.sample())\n",
        "    obs = [v for _, v in sorted(env.unwrapped.game_state.getGameState().items())]\n",
        "    env.render()\n",
        "    if done:\n",
        "        env.reset()\n",
        "        obs = [v for _, v in sorted(env.unwrapped.game_state.getGameState().items())]"
      ]
    },
    {
      "source": [
        "Se o código rodar certinho, significa que tudo foi instalado corretamente"
      ],
      "cell_type": "markdown",
      "metadata": {}
    },
    {
      "source": [
        "## Criando a IA"
      ],
      "cell_type": "markdown",
      "metadata": {}
    },
    {
      "cell_type": "code",
      "metadata": {
        "id": "OYQeFfO-w3Ty",
        "colab": {
          "base_uri": "https://localhost:8080/"
        },
        "outputId": "59b30cb8-eb93-4f89-9daf-dcab08b28687"
      },
      "source": [
        "import torch\r\n",
        "import torch.nn as nn\r\n",
        "import torch.nn.functional as F\r\n",
        "import torch.optim as optim\r\n",
        "from collections import deque\r\n",
        "import matplotlib.pyplot as plt\r\n",
        "import gym_ple\r\n",
        "import gym\r\n",
        "import numpy as np\r\n",
        "import math\r\n",
        "import datetime"
      ],
      "execution_count": 2,
      "outputs": [
        {
          "output_type": "stream",
          "text": [
            "pygame 2.0.1 (SDL 2.0.14, Python 3.6.9)\n",
            "Hello from the pygame community. https://www.pygame.org/contribute.html\n",
            "couldn't import doomish\n",
            "Couldn't import doom\n"
          ],
          "name": "stdout"
        }
      ]
    },
    {
      "source": [
        "### Criando o Replay Buffer"
      ],
      "cell_type": "markdown",
      "metadata": {}
    },
    {
      "cell_type": "code",
      "metadata": {
        "id": "rwsTIxv6xccB"
      },
      "source": [
        "class ReplayBuffer:\r\n",
        "\r\n",
        "    def __init__(self, max_length, observation_space):\r\n",
        "        self.index = 0\r\n",
        "        self.size = 0\r\n",
        "        self.max_length = max_length\r\n",
        "\r\n",
        "        self.states = np.zeros((max_length, observation_space), dtype=np.float32)\r\n",
        "        self.actions = np.zeros((max_length), dtype=np.float32)\r\n",
        "        self.rewards = np.zeros((max_length), dtype=np.float32)\r\n",
        "        self.next_states = np.zeros((max_length, observation_space), dtype=np.float32)\r\n",
        "        self.dones = np.zeros((max_length), dtype=np.float32)\r\n",
        "\r\n",
        "    def __len__(self):\r\n",
        "        return self.size\r\n",
        "\r\n",
        "    def update(self, state, action, reward, next_state, done):\r\n",
        "        self.states[self.index] = state\r\n",
        "        self.actions[self.index] = action\r\n",
        "        self.rewards[self.index] = reward\r\n",
        "        self.next_states[self.index] = next_state\r\n",
        "        self.dones[self.index] = done\r\n",
        "\r\n",
        "        self.index = (self.index + 1) % self.max_length\r\n",
        "        if self.size < self.max_length:\r\n",
        "            self.size += 1\r\n",
        "\r\n",
        "    def sample(self, batch_size):\r\n",
        "        indexes = np.random.randint(0, self.size, size=batch_size)\r\n",
        "\r\n",
        "        return self.states[indexes], self.actions[indexes], self.rewards[indexes], self.next_states[indexes], \\\r\n",
        "               self.dones[indexes]"
      ],
      "execution_count": 3,
      "outputs": []
    },
    {
      "source": [
        "### Criando a rede neural"
      ],
      "cell_type": "markdown",
      "metadata": {}
    },
    {
      "cell_type": "code",
      "metadata": {
        "id": "zu_0NUsxS82N"
      },
      "source": [
        "class LinearNetwork(nn.Module):\n",
        "\n",
        "    def __init__(self, input_dim, output_dim):\n",
        "        super(LinearNetwork, self).__init__()\n",
        "\n",
        "        self.layers = nn.Sequential(\n",
        "            nn.Linear(input_dim, 16),\n",
        "            nn.ReLU(),\n",
        "            nn.Linear(16, 32),\n",
        "            nn.ReLU(),\n",
        "            nn.Linear(32, output_dim)\n",
        "        )\n",
        "\n",
        "    def forward(self, x):\n",
        "        return self.layers(x)"
      ],
      "execution_count": 4,
      "outputs": []
    },
    {
      "source": [
        "### Criando o agente"
      ],
      "cell_type": "markdown",
      "metadata": {}
    },
    {
      "cell_type": "code",
      "metadata": {
        "id": "RK7fYm0LxxX5"
      },
      "source": [
        "class DQNagent:\r\n",
        "\r\n",
        "    def __init__(self,\r\n",
        "                 observation_space,\r\n",
        "                 action_space,\r\n",
        "                 lr=3e-4,\r\n",
        "                 gamma=0.9,\r\n",
        "                 max_memory=10_000,\r\n",
        "                 epsilon_init=0.5,\r\n",
        "                 epsilon_decay=0.995,\r\n",
        "                 epsilon_min=0.01,\r\n",
        "                 epochs=1):\r\n",
        "\r\n",
        "        self.device = torch.device(\"cuda\" if torch.cuda.is_available() else \"cpu\")\r\n",
        "        print(f\"Using {self.device}\")\r\n",
        "        self.gamma = gamma\r\n",
        "        self.memory = ReplayBuffer(max_memory, observation_space.shape[0])\r\n",
        "        self.action_space = action_space\r\n",
        "        self.epochs = epochs\r\n",
        "\r\n",
        "        self.epsilon = epsilon_init\r\n",
        "        self.epsilon_decay = epsilon_decay\r\n",
        "        self.epsilon_min = epsilon_min\r\n",
        "\r\n",
        "        self.dqn = LinearNetwork(observation_space.shape[0], action_space.n).to(self.device)\r\n",
        "        self.optimizer = optim.Adam(self.dqn.parameters(), lr=lr)\r\n",
        "\r\n",
        "    def act(self, state):\r\n",
        "        if np.random.random() < self.epsilon: #random action\r\n",
        "            action = self.action_space.sample()\r\n",
        "        else:\r\n",
        "            with torch.no_grad():\r\n",
        "                state = torch.FloatTensor(state).to(self.device)\r\n",
        "                action = self.dqn.forward(state).argmax(dim=-1)\r\n",
        "                action = action.cpu().numpy()\r\n",
        "\r\n",
        "        return action\r\n",
        "\r\n",
        "    def eps_decay(self):\r\n",
        "        if self.epsilon > self.epsilon_min:\r\n",
        "            self.epsilon *= self.epsilon_decay\r\n",
        "\r\n",
        "    def remember(self, state, action, reward, new_state, done):\r\n",
        "        self.memory.update(state, action, reward, new_state, done)\r\n",
        "\r\n",
        "    def train(self, batch_size, save=False):\r\n",
        "        if batch_size * 10 > self.memory.size:\r\n",
        "            return\r\n",
        "\r\n",
        "        for epoch in range(self.epochs):\r\n",
        "            states, actions, rewards, next_states, dones = self.memory.sample(batch_size)\r\n",
        "\r\n",
        "            states = torch.as_tensor(states).to(self.device)\r\n",
        "            actions = torch.as_tensor(actions).to(self.device).unsqueeze(-1)\r\n",
        "            rewards = torch.as_tensor(rewards).to(self.device).unsqueeze(-1)\r\n",
        "            next_states = torch.as_tensor(next_states).to(self.device)\r\n",
        "            dones = torch.as_tensor(dones).to(self.device).unsqueeze(-1)\r\n",
        "\r\n",
        "            q = self.dqn.forward(states).gather(-1, actions.long())\r\n",
        "\r\n",
        "            with torch.no_grad():\r\n",
        "                q2 = self.dqn.forward(next_states).max(dim=-1, keepdim=True)[0]\r\n",
        "\r\n",
        "                target = (rewards + (1 - dones) * self.gamma *q2).to(self.device)\r\n",
        "\r\n",
        "            loss = F.mse_loss(q, target)\r\n",
        "\r\n",
        "            self.optimizer.zero_grad()\r\n",
        "            loss.backward()\r\n",
        "            self.optimizer.step()\r\n",
        "\r\n",
        "        if save:\r\n",
        "            self.save_model()\r\n",
        "\r\n",
        "\r\n",
        "    def save_model(self):\r\n",
        "        filename = \"models/DQN-\" + str(env.unwrapped.spec.id) + '-' + datetime.datetime.now().strftime(\"%Y-%m-%d-%H%M\")\r\n",
        "        torch.save(self.dqn.state_dict(), filename)\r\n",
        "        print(f\"\\n Model saved: {filename}\")\r\n",
        "\r\n",
        "    def load_model(self, PATH):\r\n",
        "        self.dqn.load_state_dict(torch.load(PATH))\r\n",
        "        print(f\"Model loaded: {PATH}\")"
      ],
      "execution_count": 5,
      "outputs": []
    },
    {
      "source": [
        "### Testando nosso agente"
      ],
      "cell_type": "markdown",
      "metadata": {}
    },
    {
      "cell_type": "code",
      "metadata": {
        "id": "Hm45ETJkx1Am"
      },
      "source": [
        "def train(agent, env, timesteps, batch_size, render=False):\r\n",
        "    total_reward = 0\r\n",
        "    episode_returns = deque(maxlen=20)\r\n",
        "    avg_returns = []\r\n",
        "    episode = 0\r\n",
        "    env.reset()\r\n",
        "    state = [v for _, v in sorted(env.unwrapped.game_state.getGameState().items())]\r\n",
        "\r\n",
        "    for timestep in range(1, timesteps + 1):\r\n",
        "        action = agent.act(state)\r\n",
        "\r\n",
        "        # Tomar a ação escolhida\r\n",
        "        _, reward, done, info = env.step(action)\r\n",
        "        next_state = [v for _, v in sorted(env.unwrapped.game_state.getGameState().items())]\r\n",
        "\r\n",
        "        # Guardar as informações geradas pela ação\r\n",
        "        agent.remember(state, action, reward, next_state, done)\r\n",
        "\r\n",
        "        # Treinar a rede com base no ReplayBuffer\r\n",
        "        agent.train(batch_size, False)\r\n",
        "\r\n",
        "        # Soma as recompensas\r\n",
        "        total_reward += reward\r\n",
        "\r\n",
        "        if done:\r\n",
        "            episode_returns.append(total_reward)\r\n",
        "            episode += 1\r\n",
        "            env.reset()\r\n",
        "            next_state = [v for _, v in sorted(env.unwrapped.game_state.getGameState().items())]\r\n",
        "\r\n",
        "        agent.eps_decay()\r\n",
        "\r\n",
        "        if episode_returns:\r\n",
        "            avg_returns.append(np.mean(episode_returns))\r\n",
        "\r\n",
        "        total_reward *= 1 - done\r\n",
        "        ratio = math.ceil(100 * timestep / timesteps)\r\n",
        "        avg_return = avg_returns[-1] if avg_returns else np.nan\r\n",
        "\r\n",
        "        # Atualiza o estado\r\n",
        "        state = next_state\r\n",
        "\r\n",
        "        if render:\r\n",
        "            # Mostra o ambiente\r\n",
        "            env.render()\r\n",
        "\r\n",
        "        print(\r\n",
        "            f\"\\r[{ratio:3d}%]\",\r\n",
        "            f\"timestep = {timestep}/{timesteps}\",\r\n",
        "            f\"episode = {episode:3d}\",\r\n",
        "            f\"avg_return = {avg_return:10.4f}\",\r\n",
        "            f\"eps = {agent.epsilon:.4f}\",\r\n",
        "            sep=\", \",\r\n",
        "            end=\"\")\r\n",
        "\r\n",
        "    print()\r\n",
        "    return avg_returns"
      ],
      "execution_count": 6,
      "outputs": []
    },
    {
      "cell_type": "code",
      "metadata": {
        "colab": {
          "base_uri": "https://localhost:8080/",
          "height": 568
        },
        "id": "NhrfXZ27x7lA",
        "outputId": "c425568b-1935-4b73-f519-05f7cb05bea2"
      },
      "source": [
        "BATCH_SIZE = 32\r\n",
        "GAMMA = 0.99\r\n",
        "EPS_INIT = 0.5\r\n",
        "EPS_END = 0.001\r\n",
        "EPS_DECAY = 0.99995\r\n",
        "MAX_MEMORY = 1_000_000\r\n",
        "TIMESTEPS = 500_000\r\n",
        "EPOCHS = 1\r\n",
        "\r\n",
        "env_name = 'FlappyBird-v0'\r\n",
        "env = gym.make(env_name)\r\n",
        "OBS_SPACE = gym.spaces.Box(-np.inf, np.inf, shape=(len(env.unwrapped.game_state.getGameState()),))\r\n",
        "ACT_SPACE = env.action_space\r\n",
        "\r\n",
        "print(\"\\nTraining DQN\")\r\n",
        "dqn_net = DQNagent(observation_space=OBS_SPACE,\r\n",
        "                    action_space=ACT_SPACE,\r\n",
        "                    lr=3e-4,\r\n",
        "                    gamma=GAMMA,\r\n",
        "                    max_memory=MAX_MEMORY,\r\n",
        "                    epsilon_init=EPS_INIT,\r\n",
        "                    epsilon_decay=EPS_DECAY,\r\n",
        "                    epsilon_min=EPS_END,\r\n",
        "                    epochs=EPOCHS)\r\n",
        "\r\n",
        "results_dqn = train(dqn_net, env, TIMESTEPS, BATCH_SIZE, render=False)\r\n",
        "\r\n",
        "dqn_net.save_model()\r\n",
        "\r\n",
        "# Plota os resultados\r\n",
        "plt.figure(figsize=(8,6))\r\n",
        "plt.plot(results_dqn)\r\n",
        "plt.title('DQN - média móvel do retorno nos útimos 20 episódios')\r\n",
        "plt.xlabel('timestep')\r\n",
        "plt.ylabel('retorno')\r\n",
        "plt.grid()\r\n",
        "plt.show()"
      ],
      "execution_count": 7,
      "outputs": [
        {
          "output_type": "stream",
          "text": [
            "/usr/local/lib/python3.6/dist-packages/gym/logger.py:30: UserWarning: \u001b[33mWARN: Environment '<class 'gym_ple.ple_env.PLEEnv'>' has deprecated methods '_step' and '_reset' rather than 'step' and 'reset'. Compatibility code invoked. Set _gym_disable_underscore_compat = True to disable this behavior.\u001b[0m\n",
            "  warnings.warn(colorize('%s: %s'%('WARN', msg % args), 'yellow'))\n"
          ],
          "name": "stderr"
        },
        {
          "output_type": "stream",
          "text": [
            "\n",
            "Training DQN\n",
            "Using cuda\n",
            "[100%], timestep = 500000/500000, episode = 867, avg_return =    45.3500, eps = 0.0010\n",
            "\n",
            " Model saved: models/DQN-FlappyBird-v0-2021-01-23-1917\n"
          ],
          "name": "stdout"
        },
        {
          "output_type": "display_data",
          "data": {
            "image/png": "[encoded data removed]",
            "text/plain": [
              "<Figure size 576x432 with 1 Axes>"
            ]
          },
          "metadata": {
            "tags": [],
            "needs_background": "light"
          }
        }
      ]
    }
  ]
}