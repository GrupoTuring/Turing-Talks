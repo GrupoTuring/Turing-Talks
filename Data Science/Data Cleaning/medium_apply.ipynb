{
 "cells": [
  {
   "cell_type": "code",
   "execution_count": 1,
   "metadata": {
    "collapsed": true
   },
   "outputs": [],
   "source": [
    "import pandas as pd\n",
    "import numpy as np"
   ]
  },
  {
   "cell_type": "markdown",
   "metadata": {},
   "source": [
    "# Mudanças nos Dados\n",
    "\n",
    "Muitas vezes os dados obtidos podem apresentar não ser os dados que buscamos. Para solucionar alguns dos problemas que podemos encontrar, mostraremos algumas mudanças que podemos aplicar nos dados. Para isso, foi criado um dataset de alunos do ensino infantil, sobre qual sala eles estudam, qual a média de notas deles (de 0 a 5), a idade e o doce favorito.\n",
    "\n",
    "- [Documentação do método apply](https://pandas.pydata.org/pandas-docs/stable/reference/api/pandas.DataFrame.apply.html)"
   ]
  },
  {
   "cell_type": "code",
   "execution_count": 2,
   "metadata": {
    "collapsed": true
   },
   "outputs": [],
   "source": [
    "matriz=[[\"AgUA\",  4.8, 5, \"Pudim\"],\n",
    "        [\"AR\",    2.8, 5, \"Chocolate\"],\n",
    "        [\"TErrA\", 4.3, 6, \"Maria Mole\"],\n",
    "        [\"TeRRa\", 4,   5, \"Maria mole\"],\n",
    "        [\"Ar\",    3.5, 4, \"pudim\"]]\n",
    "data = pd.DataFrame(matriz, columns=[\"Sala\", \"Média\", \"Idade\", \"Doce favorito\"])"
   ]
  },
  {
   "cell_type": "code",
   "execution_count": 3,
   "metadata": {
    "collapsed": false
   },
   "outputs": [
    {
     "data": {
      "text/html": [
       "<div>\n",
       "<style scoped>\n",
       "    .dataframe tbody tr th:only-of-type {\n",
       "        vertical-align: middle;\n",
       "    }\n",
       "\n",
       "    .dataframe tbody tr th {\n",
       "        vertical-align: top;\n",
       "    }\n",
       "\n",
       "    .dataframe thead th {\n",
       "        text-align: right;\n",
       "    }\n",
       "</style>\n",
       "<table border=\"1\" class=\"dataframe\">\n",
       "  <thead>\n",
       "    <tr style=\"text-align: right;\">\n",
       "      <th></th>\n",
       "      <th>Sala</th>\n",
       "      <th>Média</th>\n",
       "      <th>Idade</th>\n",
       "      <th>Doce favorito</th>\n",
       "    </tr>\n",
       "  </thead>\n",
       "  <tbody>\n",
       "    <tr>\n",
       "      <th>0</th>\n",
       "      <td>AgUA</td>\n",
       "      <td>4.8</td>\n",
       "      <td>5</td>\n",
       "      <td>Pudim</td>\n",
       "    </tr>\n",
       "    <tr>\n",
       "      <th>1</th>\n",
       "      <td>AR</td>\n",
       "      <td>2.8</td>\n",
       "      <td>5</td>\n",
       "      <td>Chocolate</td>\n",
       "    </tr>\n",
       "    <tr>\n",
       "      <th>2</th>\n",
       "      <td>TErrA</td>\n",
       "      <td>4.3</td>\n",
       "      <td>6</td>\n",
       "      <td>Maria Mole</td>\n",
       "    </tr>\n",
       "    <tr>\n",
       "      <th>3</th>\n",
       "      <td>TeRRa</td>\n",
       "      <td>4.0</td>\n",
       "      <td>5</td>\n",
       "      <td>Maria mole</td>\n",
       "    </tr>\n",
       "    <tr>\n",
       "      <th>4</th>\n",
       "      <td>Ar</td>\n",
       "      <td>3.5</td>\n",
       "      <td>4</td>\n",
       "      <td>pudim</td>\n",
       "    </tr>\n",
       "  </tbody>\n",
       "</table>\n",
       "</div>"
      ],
      "text/plain": [
       "    Sala  Média  Idade Doce favorito\n",
       "0   AgUA    4.8      5         Pudim\n",
       "1     AR    2.8      5     Chocolate\n",
       "2  TErrA    4.3      6    Maria Mole\n",
       "3  TeRRa    4.0      5    Maria mole\n",
       "4     Ar    3.5      4         pudim"
      ]
     },
     "execution_count": 3,
     "metadata": {},
     "output_type": "execute_result"
    }
   ],
   "source": [
    "data.head()"
   ]
  },
  {
   "cell_type": "markdown",
   "metadata": {},
   "source": [
    "## .apply()\n",
    "\n",
    "Verificamos que os dados sobre as salas e o doce favorito dos alunos apresentam alguns erros de digitação. Na coluna sala, há uma mescla entre minúsculas e maiúsculas nas palavras. Já na coluna Doce favorito podemos verificar que tem palavras que começam com com maiúsculas e outras com minusculas.\n",
    "\n",
    "Para consertar isso, podemos utilizar a função `.apply()` para converter as strings para letras minúsculas. A função `.apply()` recebe uma função e aplica essa função em cada valor da coluna."
   ]
  },
  {
   "cell_type": "code",
   "execution_count": 4,
   "metadata": {
    "collapsed": false
   },
   "outputs": [],
   "source": [
    "data1=data.copy()\n",
    "\n",
    "def minuscula(x):\n",
    "    return x.lower()\n",
    "\n",
    "data1.Sala = data.Sala.apply(minuscula)\n",
    "data1[\"Doce favorito\"] = data1[\"Doce favorito\"].apply(minuscula)"
   ]
  },
  {
   "cell_type": "code",
   "execution_count": 5,
   "metadata": {
    "collapsed": false
   },
   "outputs": [
    {
     "data": {
      "text/html": [
       "<div>\n",
       "<style scoped>\n",
       "    .dataframe tbody tr th:only-of-type {\n",
       "        vertical-align: middle;\n",
       "    }\n",
       "\n",
       "    .dataframe tbody tr th {\n",
       "        vertical-align: top;\n",
       "    }\n",
       "\n",
       "    .dataframe thead th {\n",
       "        text-align: right;\n",
       "    }\n",
       "</style>\n",
       "<table border=\"1\" class=\"dataframe\">\n",
       "  <thead>\n",
       "    <tr style=\"text-align: right;\">\n",
       "      <th></th>\n",
       "      <th>Sala</th>\n",
       "      <th>Média</th>\n",
       "      <th>Idade</th>\n",
       "      <th>Doce favorito</th>\n",
       "    </tr>\n",
       "  </thead>\n",
       "  <tbody>\n",
       "    <tr>\n",
       "      <th>0</th>\n",
       "      <td>agua</td>\n",
       "      <td>4.8</td>\n",
       "      <td>5</td>\n",
       "      <td>pudim</td>\n",
       "    </tr>\n",
       "    <tr>\n",
       "      <th>1</th>\n",
       "      <td>ar</td>\n",
       "      <td>2.8</td>\n",
       "      <td>5</td>\n",
       "      <td>chocolate</td>\n",
       "    </tr>\n",
       "    <tr>\n",
       "      <th>2</th>\n",
       "      <td>terra</td>\n",
       "      <td>4.3</td>\n",
       "      <td>6</td>\n",
       "      <td>maria mole</td>\n",
       "    </tr>\n",
       "    <tr>\n",
       "      <th>3</th>\n",
       "      <td>terra</td>\n",
       "      <td>4.0</td>\n",
       "      <td>5</td>\n",
       "      <td>maria mole</td>\n",
       "    </tr>\n",
       "    <tr>\n",
       "      <th>4</th>\n",
       "      <td>ar</td>\n",
       "      <td>3.5</td>\n",
       "      <td>4</td>\n",
       "      <td>pudim</td>\n",
       "    </tr>\n",
       "  </tbody>\n",
       "</table>\n",
       "</div>"
      ],
      "text/plain": [
       "    Sala  Média  Idade Doce favorito\n",
       "0   agua    4.8      5         pudim\n",
       "1     ar    2.8      5     chocolate\n",
       "2  terra    4.3      6    maria mole\n",
       "3  terra    4.0      5    maria mole\n",
       "4     ar    3.5      4         pudim"
      ]
     },
     "execution_count": 5,
     "metadata": {},
     "output_type": "execute_result"
    }
   ],
   "source": [
    "data1"
   ]
  },
  {
   "cell_type": "markdown",
   "metadata": {},
   "source": [
    "## Extra: outros métodos de alteração\n",
    "Podemos realizar outras mudanças nas colunas do dataset sem precisar utilizar `.apply()`. Estas mudanças podem ser realizadas quando as operações são mais simples, podendo ser aplicadas tanto em colunas de string, quanto em colunas numéricas.\n",
    "\n",
    "Para exemplificar algumas operações possíveis, iremos realizar:\n",
    "\n",
    "1. Trocar a base de média de notas de 0 a 5 para 0 a 10. Para isto, iremos multiplicar todas as notas por 2.\n",
    "\n",
    "2. Adicionar o andar da sala da turma de alunos. Como todos os alunos da educação infantil ficam no primeiro andar, iremos adicionar \" 1\" junto ao nome da sala."
   ]
  },
  {
   "cell_type": "code",
   "execution_count": 6,
   "metadata": {
    "collapsed": false
   },
   "outputs": [],
   "source": [
    "data1[\"Média\"] = data1[\"Média\"] * 2"
   ]
  },
  {
   "cell_type": "code",
   "execution_count": 7,
   "metadata": {
    "collapsed": false
   },
   "outputs": [
    {
     "data": {
      "text/html": [
       "<div>\n",
       "<style scoped>\n",
       "    .dataframe tbody tr th:only-of-type {\n",
       "        vertical-align: middle;\n",
       "    }\n",
       "\n",
       "    .dataframe tbody tr th {\n",
       "        vertical-align: top;\n",
       "    }\n",
       "\n",
       "    .dataframe thead th {\n",
       "        text-align: right;\n",
       "    }\n",
       "</style>\n",
       "<table border=\"1\" class=\"dataframe\">\n",
       "  <thead>\n",
       "    <tr style=\"text-align: right;\">\n",
       "      <th></th>\n",
       "      <th>Sala</th>\n",
       "      <th>Média</th>\n",
       "      <th>Idade</th>\n",
       "      <th>Doce favorito</th>\n",
       "    </tr>\n",
       "  </thead>\n",
       "  <tbody>\n",
       "    <tr>\n",
       "      <th>0</th>\n",
       "      <td>agua</td>\n",
       "      <td>9.6</td>\n",
       "      <td>5</td>\n",
       "      <td>pudim</td>\n",
       "    </tr>\n",
       "    <tr>\n",
       "      <th>1</th>\n",
       "      <td>ar</td>\n",
       "      <td>5.6</td>\n",
       "      <td>5</td>\n",
       "      <td>chocolate</td>\n",
       "    </tr>\n",
       "    <tr>\n",
       "      <th>2</th>\n",
       "      <td>terra</td>\n",
       "      <td>8.6</td>\n",
       "      <td>6</td>\n",
       "      <td>maria mole</td>\n",
       "    </tr>\n",
       "    <tr>\n",
       "      <th>3</th>\n",
       "      <td>terra</td>\n",
       "      <td>8.0</td>\n",
       "      <td>5</td>\n",
       "      <td>maria mole</td>\n",
       "    </tr>\n",
       "    <tr>\n",
       "      <th>4</th>\n",
       "      <td>ar</td>\n",
       "      <td>7.0</td>\n",
       "      <td>4</td>\n",
       "      <td>pudim</td>\n",
       "    </tr>\n",
       "  </tbody>\n",
       "</table>\n",
       "</div>"
      ],
      "text/plain": [
       "    Sala  Média  Idade Doce favorito\n",
       "0   agua    9.6      5         pudim\n",
       "1     ar    5.6      5     chocolate\n",
       "2  terra    8.6      6    maria mole\n",
       "3  terra    8.0      5    maria mole\n",
       "4     ar    7.0      4         pudim"
      ]
     },
     "execution_count": 7,
     "metadata": {},
     "output_type": "execute_result"
    }
   ],
   "source": [
    "data1"
   ]
  },
  {
   "cell_type": "code",
   "execution_count": 8,
   "metadata": {
    "collapsed": true
   },
   "outputs": [],
   "source": [
    "data1.Sala = data1.Sala + \" 1\""
   ]
  },
  {
   "cell_type": "code",
   "execution_count": 9,
   "metadata": {
    "collapsed": false
   },
   "outputs": [
    {
     "data": {
      "text/html": [
       "<div>\n",
       "<style scoped>\n",
       "    .dataframe tbody tr th:only-of-type {\n",
       "        vertical-align: middle;\n",
       "    }\n",
       "\n",
       "    .dataframe tbody tr th {\n",
       "        vertical-align: top;\n",
       "    }\n",
       "\n",
       "    .dataframe thead th {\n",
       "        text-align: right;\n",
       "    }\n",
       "</style>\n",
       "<table border=\"1\" class=\"dataframe\">\n",
       "  <thead>\n",
       "    <tr style=\"text-align: right;\">\n",
       "      <th></th>\n",
       "      <th>Sala</th>\n",
       "      <th>Média</th>\n",
       "      <th>Idade</th>\n",
       "      <th>Doce favorito</th>\n",
       "    </tr>\n",
       "  </thead>\n",
       "  <tbody>\n",
       "    <tr>\n",
       "      <th>0</th>\n",
       "      <td>agua 1</td>\n",
       "      <td>9.6</td>\n",
       "      <td>5</td>\n",
       "      <td>pudim</td>\n",
       "    </tr>\n",
       "    <tr>\n",
       "      <th>1</th>\n",
       "      <td>ar 1</td>\n",
       "      <td>5.6</td>\n",
       "      <td>5</td>\n",
       "      <td>chocolate</td>\n",
       "    </tr>\n",
       "    <tr>\n",
       "      <th>2</th>\n",
       "      <td>terra 1</td>\n",
       "      <td>8.6</td>\n",
       "      <td>6</td>\n",
       "      <td>maria mole</td>\n",
       "    </tr>\n",
       "    <tr>\n",
       "      <th>3</th>\n",
       "      <td>terra 1</td>\n",
       "      <td>8.0</td>\n",
       "      <td>5</td>\n",
       "      <td>maria mole</td>\n",
       "    </tr>\n",
       "    <tr>\n",
       "      <th>4</th>\n",
       "      <td>ar 1</td>\n",
       "      <td>7.0</td>\n",
       "      <td>4</td>\n",
       "      <td>pudim</td>\n",
       "    </tr>\n",
       "  </tbody>\n",
       "</table>\n",
       "</div>"
      ],
      "text/plain": [
       "      Sala  Média  Idade Doce favorito\n",
       "0   agua 1    9.6      5         pudim\n",
       "1     ar 1    5.6      5     chocolate\n",
       "2  terra 1    8.6      6    maria mole\n",
       "3  terra 1    8.0      5    maria mole\n",
       "4     ar 1    7.0      4         pudim"
      ]
     },
     "execution_count": 9,
     "metadata": {},
     "output_type": "execute_result"
    }
   ],
   "source": [
    "data1"
   ]
  }
 ],
 "metadata": {
  "kernelspec": {
   "display_name": "Python 3",
   "language": "python",
   "name": "python3"
  },
  "language_info": {
   "codemirror_mode": {
    "name": "ipython",
    "version": 3
   },
   "file_extension": ".py",
   "mimetype": "text/x-python",
   "name": "python",
   "nbconvert_exporter": "python",
   "pygments_lexer": "ipython3",
   "version": "3.7.3"
  }
 },
 "nbformat": 4,
 "nbformat_minor": 2
}
