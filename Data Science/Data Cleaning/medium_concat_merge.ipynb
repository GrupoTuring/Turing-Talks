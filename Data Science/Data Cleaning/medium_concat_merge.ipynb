{
 "cells": [
  {
   "cell_type": "code",
   "execution_count": 1,
   "metadata": {
    "collapsed": true
   },
   "outputs": [],
   "source": [
    "import pandas as pd\n",
    "import numpy as np"
   ]
  },
  {
   "cell_type": "markdown",
   "metadata": {},
   "source": [
    "# Juntando bases (linhas diferentes, mesmas colunas)\n",
    "\n",
    "Vamos supor que você extraiu dados de um servidor sobre as vendas de suas lojas no sudeste. Depois você extraiu os dados de outro servidor sobre as vendas de suas lojas nos demais estados. Como juntar essas bases de lugares diferentes, mas com dados de colunas iguais?\n",
    "\n",
    "Para realizar tal tarefa, iremos utilizar a função `.concat()`. Iremos juntar 2 dataframes que apresentam as mesmas colunas, mas com dados diferentes nas linhas.\n",
    "\n",
    "- [Documentação do método concat](https://pandas.pydata.org/pandas-docs/stable/reference/api/pandas.concat.html)\n"
   ]
  },
  {
   "cell_type": "code",
   "execution_count": 2,
   "metadata": {
    "collapsed": true
   },
   "outputs": [],
   "source": [
    "matriz0 = [[\"SP\", 18, 5000, \"Pudim\"],\n",
    "           [\"MG\", 20, 5100, \"Chocolate\"],\n",
    "           [\"RJ\", 3,  600,  \"Maria Mole\"]]\n",
    "data0 = pd.DataFrame(matriz0, columns = [\"Estado\", \"Número de lojas\",\n",
    "                                        \"Vendas de Doce de Abóbora/dia\",\n",
    "                                        \"Doce mais vendido\"])\n",
    "\n",
    "matriz1 = [[\"RN\", 22, 7800, \"Pudim\"],\n",
    "           [\"RS\", 11, 514,  \"Chocolate\"],\n",
    "           [\"TO\", 6,  680,  \"Doce de Leite\"]]\n",
    "data1 = pd.DataFrame(matriz1, columns=[\"Estado\", \"Número de lojas\",\n",
    "                                       \"Vendas de Doce de Abóbora/dia\",\n",
    "                                       \"Doce mais vendido\"])"
   ]
  },
  {
   "cell_type": "code",
   "execution_count": 3,
   "metadata": {
    "collapsed": false
   },
   "outputs": [
    {
     "data": {
      "text/html": [
       "<div>\n",
       "<style scoped>\n",
       "    .dataframe tbody tr th:only-of-type {\n",
       "        vertical-align: middle;\n",
       "    }\n",
       "\n",
       "    .dataframe tbody tr th {\n",
       "        vertical-align: top;\n",
       "    }\n",
       "\n",
       "    .dataframe thead th {\n",
       "        text-align: right;\n",
       "    }\n",
       "</style>\n",
       "<table border=\"1\" class=\"dataframe\">\n",
       "  <thead>\n",
       "    <tr style=\"text-align: right;\">\n",
       "      <th></th>\n",
       "      <th>Estado</th>\n",
       "      <th>Número de lojas</th>\n",
       "      <th>Vendas de Doce de Abóbora/dia</th>\n",
       "      <th>Doce mais vendido</th>\n",
       "    </tr>\n",
       "  </thead>\n",
       "  <tbody>\n",
       "    <tr>\n",
       "      <th>0</th>\n",
       "      <td>SP</td>\n",
       "      <td>18</td>\n",
       "      <td>5000</td>\n",
       "      <td>Pudim</td>\n",
       "    </tr>\n",
       "    <tr>\n",
       "      <th>1</th>\n",
       "      <td>MG</td>\n",
       "      <td>20</td>\n",
       "      <td>5100</td>\n",
       "      <td>Chocolate</td>\n",
       "    </tr>\n",
       "    <tr>\n",
       "      <th>2</th>\n",
       "      <td>RJ</td>\n",
       "      <td>3</td>\n",
       "      <td>600</td>\n",
       "      <td>Maria Mole</td>\n",
       "    </tr>\n",
       "  </tbody>\n",
       "</table>\n",
       "</div>"
      ],
      "text/plain": [
       "  Estado  Número de lojas  Vendas de Doce de Abóbora/dia Doce mais vendido\n",
       "0     SP               18                           5000             Pudim\n",
       "1     MG               20                           5100         Chocolate\n",
       "2     RJ                3                            600        Maria Mole"
      ]
     },
     "execution_count": 3,
     "metadata": {},
     "output_type": "execute_result"
    }
   ],
   "source": [
    "data0"
   ]
  },
  {
   "cell_type": "code",
   "execution_count": 4,
   "metadata": {
    "collapsed": false
   },
   "outputs": [
    {
     "data": {
      "text/html": [
       "<div>\n",
       "<style scoped>\n",
       "    .dataframe tbody tr th:only-of-type {\n",
       "        vertical-align: middle;\n",
       "    }\n",
       "\n",
       "    .dataframe tbody tr th {\n",
       "        vertical-align: top;\n",
       "    }\n",
       "\n",
       "    .dataframe thead th {\n",
       "        text-align: right;\n",
       "    }\n",
       "</style>\n",
       "<table border=\"1\" class=\"dataframe\">\n",
       "  <thead>\n",
       "    <tr style=\"text-align: right;\">\n",
       "      <th></th>\n",
       "      <th>Estado</th>\n",
       "      <th>Número de lojas</th>\n",
       "      <th>Vendas de Doce de Abóbora/dia</th>\n",
       "      <th>Doce mais vendido</th>\n",
       "    </tr>\n",
       "  </thead>\n",
       "  <tbody>\n",
       "    <tr>\n",
       "      <th>0</th>\n",
       "      <td>RN</td>\n",
       "      <td>22</td>\n",
       "      <td>7800</td>\n",
       "      <td>Pudim</td>\n",
       "    </tr>\n",
       "    <tr>\n",
       "      <th>1</th>\n",
       "      <td>RS</td>\n",
       "      <td>11</td>\n",
       "      <td>514</td>\n",
       "      <td>Chocolate</td>\n",
       "    </tr>\n",
       "    <tr>\n",
       "      <th>2</th>\n",
       "      <td>TO</td>\n",
       "      <td>6</td>\n",
       "      <td>680</td>\n",
       "      <td>Doce de Leite</td>\n",
       "    </tr>\n",
       "  </tbody>\n",
       "</table>\n",
       "</div>"
      ],
      "text/plain": [
       "  Estado  Número de lojas  Vendas de Doce de Abóbora/dia Doce mais vendido\n",
       "0     RN               22                           7800             Pudim\n",
       "1     RS               11                            514         Chocolate\n",
       "2     TO                6                            680     Doce de Leite"
      ]
     },
     "execution_count": 4,
     "metadata": {},
     "output_type": "execute_result"
    }
   ],
   "source": [
    "data1"
   ]
  },
  {
   "cell_type": "code",
   "execution_count": 5,
   "metadata": {
    "collapsed": false
   },
   "outputs": [
    {
     "data": {
      "text/html": [
       "<div>\n",
       "<style scoped>\n",
       "    .dataframe tbody tr th:only-of-type {\n",
       "        vertical-align: middle;\n",
       "    }\n",
       "\n",
       "    .dataframe tbody tr th {\n",
       "        vertical-align: top;\n",
       "    }\n",
       "\n",
       "    .dataframe thead th {\n",
       "        text-align: right;\n",
       "    }\n",
       "</style>\n",
       "<table border=\"1\" class=\"dataframe\">\n",
       "  <thead>\n",
       "    <tr style=\"text-align: right;\">\n",
       "      <th></th>\n",
       "      <th>Estado</th>\n",
       "      <th>Número de lojas</th>\n",
       "      <th>Vendas de Doce de Abóbora/dia</th>\n",
       "      <th>Doce mais vendido</th>\n",
       "    </tr>\n",
       "  </thead>\n",
       "  <tbody>\n",
       "    <tr>\n",
       "      <th>0</th>\n",
       "      <td>SP</td>\n",
       "      <td>18</td>\n",
       "      <td>5000</td>\n",
       "      <td>Pudim</td>\n",
       "    </tr>\n",
       "    <tr>\n",
       "      <th>1</th>\n",
       "      <td>MG</td>\n",
       "      <td>20</td>\n",
       "      <td>5100</td>\n",
       "      <td>Chocolate</td>\n",
       "    </tr>\n",
       "    <tr>\n",
       "      <th>2</th>\n",
       "      <td>RJ</td>\n",
       "      <td>3</td>\n",
       "      <td>600</td>\n",
       "      <td>Maria Mole</td>\n",
       "    </tr>\n",
       "    <tr>\n",
       "      <th>0</th>\n",
       "      <td>RN</td>\n",
       "      <td>22</td>\n",
       "      <td>7800</td>\n",
       "      <td>Pudim</td>\n",
       "    </tr>\n",
       "    <tr>\n",
       "      <th>1</th>\n",
       "      <td>RS</td>\n",
       "      <td>11</td>\n",
       "      <td>514</td>\n",
       "      <td>Chocolate</td>\n",
       "    </tr>\n",
       "    <tr>\n",
       "      <th>2</th>\n",
       "      <td>TO</td>\n",
       "      <td>6</td>\n",
       "      <td>680</td>\n",
       "      <td>Doce de Leite</td>\n",
       "    </tr>\n",
       "  </tbody>\n",
       "</table>\n",
       "</div>"
      ],
      "text/plain": [
       "  Estado  Número de lojas  Vendas de Doce de Abóbora/dia Doce mais vendido\n",
       "0     SP               18                           5000             Pudim\n",
       "1     MG               20                           5100         Chocolate\n",
       "2     RJ                3                            600        Maria Mole\n",
       "0     RN               22                           7800             Pudim\n",
       "1     RS               11                            514         Chocolate\n",
       "2     TO                6                            680     Doce de Leite"
      ]
     },
     "execution_count": 5,
     "metadata": {},
     "output_type": "execute_result"
    }
   ],
   "source": [
    "data=pd.concat([data0, data1])\n",
    "data"
   ]
  },
  {
   "cell_type": "markdown",
   "metadata": {},
   "source": [
    "# Juntando bases (linhas iguais, colunas diferentes)\n",
    "\n",
    "Agora vamos supor que você extraiu dados de um outro banco de dados sobre a média de visitantes em suas lojas, mas você quer analisar junto ao dataset que apresenta os dados sobre o número de lojas por estado.\n",
    "\n",
    "Para realizar tal tarefa, iremos utilizar a função merge. Iremos juntar 2 dataframes que apresentam as colunas diferentes, mas que podem ser ligados por uma coluna em comum (no caso o Estado).\n",
    "\n",
    "- [Documentação do método merge](https://pandas.pydata.org/pandas-docs/stable/reference/api/pandas.DataFrame.merge.html)"
   ]
  },
  {
   "cell_type": "code",
   "execution_count": 6,
   "metadata": {
    "collapsed": false
   },
   "outputs": [
    {
     "data": {
      "text/html": [
       "<div>\n",
       "<style scoped>\n",
       "    .dataframe tbody tr th:only-of-type {\n",
       "        vertical-align: middle;\n",
       "    }\n",
       "\n",
       "    .dataframe tbody tr th {\n",
       "        vertical-align: top;\n",
       "    }\n",
       "\n",
       "    .dataframe thead th {\n",
       "        text-align: right;\n",
       "    }\n",
       "</style>\n",
       "<table border=\"1\" class=\"dataframe\">\n",
       "  <thead>\n",
       "    <tr style=\"text-align: right;\">\n",
       "      <th></th>\n",
       "      <th>Estado</th>\n",
       "      <th>Média de pessoas por loja e dia</th>\n",
       "    </tr>\n",
       "  </thead>\n",
       "  <tbody>\n",
       "    <tr>\n",
       "      <th>0</th>\n",
       "      <td>RN</td>\n",
       "      <td>1370</td>\n",
       "    </tr>\n",
       "    <tr>\n",
       "      <th>1</th>\n",
       "      <td>SP</td>\n",
       "      <td>700</td>\n",
       "    </tr>\n",
       "    <tr>\n",
       "      <th>2</th>\n",
       "      <td>TO</td>\n",
       "      <td>992</td>\n",
       "    </tr>\n",
       "    <tr>\n",
       "      <th>3</th>\n",
       "      <td>MG</td>\n",
       "      <td>1800</td>\n",
       "    </tr>\n",
       "    <tr>\n",
       "      <th>4</th>\n",
       "      <td>RJ</td>\n",
       "      <td>709</td>\n",
       "    </tr>\n",
       "    <tr>\n",
       "      <th>5</th>\n",
       "      <td>RS</td>\n",
       "      <td>1563</td>\n",
       "    </tr>\n",
       "  </tbody>\n",
       "</table>\n",
       "</div>"
      ],
      "text/plain": [
       "  Estado  Média de pessoas por loja e dia\n",
       "0     RN                             1370\n",
       "1     SP                              700\n",
       "2     TO                              992\n",
       "3     MG                             1800\n",
       "4     RJ                              709\n",
       "5     RS                             1563"
      ]
     },
     "execution_count": 6,
     "metadata": {},
     "output_type": "execute_result"
    }
   ],
   "source": [
    "matriz3 = [[\"RN\", 1370],\n",
    "           [\"SP\", 700],\n",
    "           [\"TO\", 992],\n",
    "           [\"MG\", 1800],\n",
    "           [\"RJ\", 709],\n",
    "           [\"RS\", 1563]]\n",
    "data3 = pd.DataFrame(matriz3, columns=[\"Estado\", \"Média de pessoas por loja e dia\"])\n",
    "data3"
   ]
  },
  {
   "cell_type": "code",
   "execution_count": 7,
   "metadata": {
    "collapsed": false
   },
   "outputs": [
    {
     "data": {
      "text/html": [
       "<div>\n",
       "<style scoped>\n",
       "    .dataframe tbody tr th:only-of-type {\n",
       "        vertical-align: middle;\n",
       "    }\n",
       "\n",
       "    .dataframe tbody tr th {\n",
       "        vertical-align: top;\n",
       "    }\n",
       "\n",
       "    .dataframe thead th {\n",
       "        text-align: right;\n",
       "    }\n",
       "</style>\n",
       "<table border=\"1\" class=\"dataframe\">\n",
       "  <thead>\n",
       "    <tr style=\"text-align: right;\">\n",
       "      <th></th>\n",
       "      <th>Estado</th>\n",
       "      <th>Número de lojas</th>\n",
       "      <th>Vendas de Doce de Abóbora/dia</th>\n",
       "      <th>Doce mais vendido</th>\n",
       "      <th>Média de pessoas por loja e dia</th>\n",
       "    </tr>\n",
       "  </thead>\n",
       "  <tbody>\n",
       "    <tr>\n",
       "      <th>0</th>\n",
       "      <td>SP</td>\n",
       "      <td>18</td>\n",
       "      <td>5000</td>\n",
       "      <td>Pudim</td>\n",
       "      <td>700</td>\n",
       "    </tr>\n",
       "    <tr>\n",
       "      <th>1</th>\n",
       "      <td>MG</td>\n",
       "      <td>20</td>\n",
       "      <td>5100</td>\n",
       "      <td>Chocolate</td>\n",
       "      <td>1800</td>\n",
       "    </tr>\n",
       "    <tr>\n",
       "      <th>2</th>\n",
       "      <td>RJ</td>\n",
       "      <td>3</td>\n",
       "      <td>600</td>\n",
       "      <td>Maria Mole</td>\n",
       "      <td>709</td>\n",
       "    </tr>\n",
       "    <tr>\n",
       "      <th>3</th>\n",
       "      <td>RN</td>\n",
       "      <td>22</td>\n",
       "      <td>7800</td>\n",
       "      <td>Pudim</td>\n",
       "      <td>1370</td>\n",
       "    </tr>\n",
       "    <tr>\n",
       "      <th>4</th>\n",
       "      <td>RS</td>\n",
       "      <td>11</td>\n",
       "      <td>514</td>\n",
       "      <td>Chocolate</td>\n",
       "      <td>1563</td>\n",
       "    </tr>\n",
       "    <tr>\n",
       "      <th>5</th>\n",
       "      <td>TO</td>\n",
       "      <td>6</td>\n",
       "      <td>680</td>\n",
       "      <td>Doce de Leite</td>\n",
       "      <td>992</td>\n",
       "    </tr>\n",
       "  </tbody>\n",
       "</table>\n",
       "</div>"
      ],
      "text/plain": [
       "  Estado  Número de lojas  Vendas de Doce de Abóbora/dia Doce mais vendido  \\\n",
       "0     SP               18                           5000             Pudim   \n",
       "1     MG               20                           5100         Chocolate   \n",
       "2     RJ                3                            600        Maria Mole   \n",
       "3     RN               22                           7800             Pudim   \n",
       "4     RS               11                            514         Chocolate   \n",
       "5     TO                6                            680     Doce de Leite   \n",
       "\n",
       "   Média de pessoas por loja e dia  \n",
       "0                              700  \n",
       "1                             1800  \n",
       "2                              709  \n",
       "3                             1370  \n",
       "4                             1563  \n",
       "5                              992  "
      ]
     },
     "execution_count": 7,
     "metadata": {},
     "output_type": "execute_result"
    }
   ],
   "source": [
    "data_complete = data.merge(data3, on=\"Estado\", how=\"left\")\n",
    "data_complete"
   ]
  }
 ],
 "metadata": {
  "kernelspec": {
   "display_name": "Python 3",
   "language": "python",
   "name": "python3"
  },
  "language_info": {
   "codemirror_mode": {
    "name": "ipython",
    "version": 3
   },
   "file_extension": ".py",
   "mimetype": "text/x-python",
   "name": "python",
   "nbconvert_exporter": "python",
   "pygments_lexer": "ipython3",
   "version": "3.7.3"
  }
 },
 "nbformat": 4,
 "nbformat_minor": 2
}
