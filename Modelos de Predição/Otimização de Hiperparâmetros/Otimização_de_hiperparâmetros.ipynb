{
  "nbformat": 4,
  "nbformat_minor": 0,
  "metadata": {
    "kernelspec": {
      "display_name": "Python 3",
      "language": "python",
      "name": "python3"
    },
    "language_info": {
      "codemirror_mode": {
        "name": "ipython",
        "version": 3
      },
      "file_extension": ".py",
      "mimetype": "text/x-python",
      "name": "python",
      "nbconvert_exporter": "python",
      "pygments_lexer": "ipython3",
      "version": "3.6.5"
    },
    "colab": {
      "name": "Otimização de hiperparâmetros.ipynb",
      "provenance": []
    }
  },
  "cells": [
    {
      "cell_type": "markdown",
      "metadata": {
        "id": "aOEjYcJ6VAS6",
        "colab_type": "text"
      },
      "source": [
        "# Otimização de hiperparâmetros\n",
        "![head](https://drive.google.com/uc?id=1E0NK-xpj28zAccdWf5-4bLRoa30jlmZ8)\n",
        "\n",
        "O que são hiperparâmetros e como otimizá-los? Por que se preocupar com isso? Em que etapa de um projeto de DS isso entra? Na aula de hoje, vamos falar sobre esses tópicos. <br>"
      ]
    },
    {
      "cell_type": "markdown",
      "metadata": {
        "colab_type": "text",
        "id": "2UzwQCNRkAYr"
      },
      "source": [
        "## Motivação\n"
      ]
    },
    {
      "cell_type": "markdown",
      "metadata": {
        "id": "aF8zp1P83UC-",
        "colab_type": "text"
      },
      "source": [
        "<figure>\n",
        "<center>\n",
        "<img src= 'https://drive.google.com/uc?id=1EmBb4OkO3WsQMtorvA9TqZLocXI8Y3Ll' />\n",
        "</center>\n",
        "</figure>\n",
        "\n",
        "\n",
        "Digamos que você esteja fazendo um projeto ponta a ponta de Ciência de Dados. Você passou muito tempo coletando e limpando os dados, depois analisou eles, tirou insights importantes e finalmente começou a modelar com Machine Learning.\n",
        "\n",
        "Olhando para alguma métrica, como acurácia ou R², você viu que seu modelo está razoável - dá para melhorar. Assim, você decide preparar ainda mais os dados para a modelagem, o que dá um up no modelo, mas ainda fica uma sensação de que dava para fazer melhor.\n",
        "\n",
        " E agora?\n",
        "\n",
        "Agora entra a otimização de hiperparâmetros.\n"
      ]
    },
    {
      "cell_type": "markdown",
      "metadata": {
        "id": "WZfrhrbukbUH",
        "colab_type": "text"
      },
      "source": [
        "## Parâmetros vs. Hiperparâmetros \n"
      ]
    },
    {
      "cell_type": "code",
      "metadata": {
        "id": "80EXohQwEyOA",
        "colab_type": "code",
        "colab": {}
      },
      "source": [
        "from sklearn.linear_model import Lasso\n",
        "from sklearn.datasets import load_boston\n",
        "\n",
        "lasso = Lasso(alpha = 1.0,    #-----------------------> alpha e tol: \n",
        "              tol = 0.0001)   #-----------------------> são hiperparâmetros\n",
        "\n",
        "lasso.fit(load_boston().data,load_boston().target)\n",
        "coefs = lasso.coef_  #--------------------------------> Os coeficientes são parâmetros"
      ],
      "execution_count": 0,
      "outputs": []
    },
    {
      "cell_type": "markdown",
      "metadata": {
        "id": "FQIEKbXkVAS8",
        "colab_type": "text"
      },
      "source": [
        "<figure>\n",
        "<center>\n",
        "<img src= 'https://drive.google.com/uc?id=1C_HMnvOT-ZfWLlYBS0Rmgh1UOMYQEdZd' />\n",
        "</center>\n",
        "</figure>\n",
        "\n",
        "Parâmetros e hiperparâmetros são duas partes fundamentais de um modelo preditivo. Em um algoritmo machine learning, os **parâmetros são ajustados diretamente pelo processo de aprendizado**, automaticamente. Os coeficientes de uma regressão linear, os pesos de uma rede neural, as fronteiras das vizinhanças no kNN, todos esses são parâmetros que se ajustam ao treinar o modelo preditivo para um conjunto de dados.<br>\n",
        "\n",
        "Por sua vez, **hiperparâmetros são variáveis do algoritmo definidas antes do treinamento**. Eles representam características mais construtivas, como a taxa de aprendizado de uma regressão linear, o número de neurônios e camadas de uma rede neural, o número de vizinhos do kNN. Os hiperparâmetros são muito importantes para a performance do modelo preditivo e caso escolhidos de qualquer jeito, podem torná-lo inútil.   <br>\n",
        "\n",
        "Do mesmo jeito que os parâmetros de um algoritmo são ajustados de forma a minimizar ou maximizar uma métrica, os hiperparâmetros também são. O problema é que só é possível medir a performance de de uma combinação de hiperparâmetros treinando o modelo em questão. Assim, **para otimizar um hiperparâmetro é preciso treinar um modelo diversas vezes**, o que é muito demorado. Mas, isso não significa que não existam jeitos mais inteligentes de fazer essa- para isso existem diversos algoritmos que vamos falar a seguir."
      ]
    },
    {
      "cell_type": "markdown",
      "metadata": {
        "colab_type": "text",
        "id": "cF1x1yHFk3Bn"
      },
      "source": [
        "## Ajustando hiperparâmetros"
      ]
    },
    {
      "cell_type": "markdown",
      "metadata": {
        "id": "PMDxNPcvk-Kl",
        "colab_type": "text"
      },
      "source": [
        "Vamos ver os algoritmos mais populares de otimização de hiperparâmetros. Para compará-los, vamos à prática utilizando um modelo preditivo e um conjunto de dados.\n"
      ]
    },
    {
      "cell_type": "markdown",
      "metadata": {
        "colab_type": "text",
        "id": "4BfhGa_TlZEZ"
      },
      "source": [
        "### O modelo preditivo"
      ]
    },
    {
      "cell_type": "markdown",
      "metadata": {
        "id": "R3ZIWYpCjUVr",
        "colab_type": "text"
      },
      "source": [
        " Vamos usar uma **[Árvore de Decisão](https://scikit-learn.org/stable/modules/generated/sklearn.tree.DecisionTreeClassifier.html)**, um modelo preditivo que formula comparações e desigualdades sobre os dados de entrada, para predizer uma variável de saída. Um ótimo aspecto desse modelo é que fácil de interpretá-lo, como na imagem a seguir:<br>\n",
        "\n",
        "\n",
        "<figure>\n",
        "<center>\n",
        "<img src= 'https://drive.google.com/uc?export=view&id=1mJbylXNgp2uUaVbGmzQ_pz5zs1KCE4Ge' />\n",
        "</center>\n",
        "</figure>\n",
        "Um hiperparâmetro muito importante para uma árvore de decisão é sua profundidade máxima, ou seja, o número de perguntas que podem ser feitas em sequência, pois ele ajuda muito a prevenir um problema comum deste modelo que é o sobreajuste.\n",
        "\n"
      ]
    },
    {
      "cell_type": "markdown",
      "metadata": {
        "id": "k1ruIIsYlicq",
        "colab_type": "text"
      },
      "source": [
        "### O conjunto de dados\n"
      ]
    },
    {
      "cell_type": "markdown",
      "metadata": {
        "id": "nC5UsOJzlgni",
        "colab_type": "text"
      },
      "source": [
        "Em relação aos dados, vamos usar o [dataset de câncer de mama](https://scikit-learn.org/stable/datasets/index.html#breast-cancer-dataset), onde devemos classificar se um nódulo é maligno ou benigno com base em características dele, extraídas de uma imagem digitalizada de um tecido mamário (via PAAF - Punção Aspirativa de Agulha Fina)."
      ]
    },
    {
      "cell_type": "markdown",
      "metadata": {
        "id": "w8MAWoJ1VAS9",
        "colab_type": "text"
      },
      "source": [
        "### Preparação"
      ]
    },
    {
      "cell_type": "markdown",
      "metadata": {
        "id": "uvcgOb-zl85Z",
        "colab_type": "text"
      },
      "source": [
        "Como neste caso é muito importante detectar os casos de câncer e evitar um alarme falso, precisamos prestar atenção tanto na taxa de positivos verdadeiros quando na de falsos positivos. Assim, a métrica de avaliação que vamos utilizar é o **AUC-ROC**, ou área sob a curva [ROC](https://en.wikipedia.org/wiki/Receiver_operating_characteristic), que representa a probabilidade do modelo distinguir corretamente a classe positiva da negativa. O melhor caso da AUC-ROC ocorre em 1 e o pior caso ocorre em 0.5 (por quê?). <br>\n",
        "\n",
        "$$TPR = \\frac{TP}{TP + FN} \\quad \\quad FPR = \\frac{FP}{FP + TN}$$\n",
        "\n",
        "<figure>\n",
        "<center>\n",
        "<img src= 'https://drive.google.com/uc?id=13UEKTB9S4DHGH3OUD5YmLZiJQWFZz_hB' />\n",
        "</center>\n",
        "</figure>\n",
        "\n",
        "Além disso, vamos repartir o conjunto de dados diversas vezes entre partes de  treino e partes de teste para garantir que o modelo performa bem em todo o conjunto - essa técnica é chamada de validação cruzada, ou **[cross-validation](https://scikit-learn.org/stable/modules/generated/sklearn.model_selection.cross_val_score.html)**. Vamos usar essa estratégia para todos os algoritmos a seguir, também!\n",
        "\n",
        "<figure>\n",
        "<center>\n",
        "<img src= 'https://drive.google.com/uc?id=1zEQLIDI1-z2OxG6EzkihrDuxJ7OK1dHT' />\n",
        "</center>\n",
        "</figure>"
      ]
    },
    {
      "cell_type": "code",
      "metadata": {
        "id": "Rva8gZ30VAS9",
        "colab_type": "code",
        "colab": {}
      },
      "source": [
        "# Importando o que precisamos\n",
        "from sklearn.tree import DecisionTreeClassifier\n",
        "from sklearn.datasets import load_breast_cancer\n",
        "from sklearn.metrics import f1_score\n",
        "from sklearn.model_selection import cross_val_score"
      ],
      "execution_count": 0,
      "outputs": []
    },
    {
      "cell_type": "markdown",
      "metadata": {
        "id": "tdLsmmGsVATA",
        "colab_type": "text"
      },
      "source": [
        "Vamos medir o quão bem a árvore de decisão performa sem realizar nenhum ajuste:"
      ]
    },
    {
      "cell_type": "code",
      "metadata": {
        "id": "aKJjqLKRVATB",
        "colab_type": "code",
        "outputId": "31410c7e-3bff-4b24-d139-d5e010527e32",
        "colab": {
          "base_uri": "https://localhost:8080/",
          "height": 34
        }
      },
      "source": [
        "# Carregando o conjunto de dados\n",
        "entradas, saida = load_breast_cancer(return_X_y=True)\n",
        "\n",
        "# Vamos passar o modelo preditivo, os dados de entrada e saida, a funcao de desempenho e o numero de particoes para a funcao de \n",
        "# validacao cruzada\n",
        "desempenho_cross_val = cross_val_score(estimator = DecisionTreeClassifier(random_state=37),\n",
        "                                       X = entradas, \n",
        "                                       y = saida,\n",
        "                                       scoring = 'roc_auc',\n",
        "                                       cv = 3)\n",
        "\n",
        "print('Desempenho médio de AUC-ROC: {}'.format(round(desempenho_cross_val.mean(),3)))"
      ],
      "execution_count": 0,
      "outputs": [
        {
          "output_type": "stream",
          "text": [
            "Desempenho médio de AUC-ROC: 0.916\n"
          ],
          "name": "stdout"
        }
      ]
    },
    {
      "cell_type": "markdown",
      "metadata": {
        "id": "K0nrLbXCVATE",
        "colab_type": "text"
      },
      "source": [
        "Aparentemente já conseguimos um bom resultado mesmo sem otimizar o hiperparâmetro. Isso é razoavelmente comum, mas estamos diagnosticando casos de câncer, então cada pontinho vale! Então, vamos às técnicas de otimização de hiperparâmetros:"
      ]
    },
    {
      "cell_type": "markdown",
      "metadata": {
        "id": "WiMLpPNTVATF",
        "colab_type": "text"
      },
      "source": [
        "### 1. Grid Search"
      ]
    },
    {
      "cell_type": "markdown",
      "metadata": {
        "id": "Z5pfWZtQBmP8",
        "colab_type": "text"
      },
      "source": [
        "\n",
        "<figure>\n",
        "<center>\n",
        "<img src= 'https://drive.google.com/uc?id=18YG8avvFrHWU8AoXXSChil9JrPcCDCJe'width=\"600\" height=\"280\"/>\n",
        "</center>\n",
        "</figure>\n",
        "\n",
        "Possivelmente o caso mais ingênuo e mais simples. **O [Grid Search](https://scikit-learn.org/stable/modules/generated/sklearn.model_selection.GridSearchCV.html), ou busca em grade, é um algoritmo de busca que recebe uma conjunto de valores de um ou mais hiperparâmetros e testa todas as combinações dentro dessa vizinhança**. O algoritmo tabela qual foi o desempenho de cada configuração e ao final de todos os testes, fala qual é a melhor escolha. Atualmente, existem alternativas muito melhores que o Grid Search, mas vale a pena citá-lo por sua simplicidade.<br>"
      ]
    },
    {
      "cell_type": "code",
      "metadata": {
        "id": "O39lxwPSVATF",
        "colab_type": "code",
        "outputId": "d2a69883-2adf-4adc-ae1e-4cc6b81e247d",
        "colab": {
          "base_uri": "https://localhost:8080/",
          "height": 84
        }
      },
      "source": [
        "# Importando o Grid Search com cross-validation\n",
        "from sklearn.model_selection import GridSearchCV\n",
        "\n",
        "# Vamos passar para o GridSearchCV o modelo preditivo, a vizinhança de hiperparâmetros,\n",
        "# a função de desemepnho e o número de partições do conjunto de dados:\n",
        "grid_search_cv = GridSearchCV(estimator = DecisionTreeClassifier(random_state = 37),\n",
        "                              param_grid = {'max_depth':range(1,50)}, # Testando comprimentos máximos de 1 a 50\n",
        "                              scoring='roc_auc', cv = 3)\n",
        "\n",
        "# Realizando a otimização por GridSearch para os dados de cancer de mama:\n",
        "grid_search_cv.fit(entradas,saida)\n",
        "\n",
        "#Vamos ver informações relevantes:  \n",
        "print('Melhor comprimento máximo: {}'.format(grid_search_cv.best_params_['max_depth']))\n",
        "print('Desempenho AUC-ROC do melhor modelo: {}'.format(round(grid_search_cv.best_score_,3)))\n",
        "print('Tempo para realizar a otimização:')\n",
        "%timeit -n 1 -r 1 grid_search_cv.fit(entradas,saida)"
      ],
      "execution_count": 0,
      "outputs": [
        {
          "output_type": "stream",
          "text": [
            "Melhor comprimento máximo: 3\n",
            "Desempenho AUC-ROC do melhor modelo: 0.923\n",
            "Tempo para realizar a otimização:\n",
            "1 loop, best of 1: 1.15 s per loop\n"
          ],
          "name": "stdout"
        }
      ]
    },
    {
      "cell_type": "markdown",
      "metadata": {
        "id": "tuCSapC5VATI",
        "colab_type": "text"
      },
      "source": [
        "Podemos ver que o modelo selecionou uma árvore de decisão com máximo comprimento 3 e performou melhor que a árvore sem otimização! Também vimos o tempo de execução, por volta de 266 ms, que vai ser útil para comparar com os outros algoritmos."
      ]
    },
    {
      "cell_type": "markdown",
      "metadata": {
        "id": "A9vCYC0BVATJ",
        "colab_type": "text"
      },
      "source": [
        "### 2. Random Search"
      ]
    },
    {
      "cell_type": "markdown",
      "metadata": {
        "id": "92qn-wkSBopJ",
        "colab_type": "text"
      },
      "source": [
        "Este algoritmo é muito parecido com o Grid Search, exceto por um motivo: ao invés de testar todas as combinações na vizinhança, **o [Random Search](https://scikit-learn.org/stable/modules/generated/sklearn.model_selection.RandomizedSearchCV.html), ou busca aleatória, testa combinações aleatórias de hiperparâmetros**, conforme um número especificado de amostras a tirar. Ele é uma alternativa para o Grid Search quando o conjunto de dados é muito grande, ou há um número muito grande de hiperparâmetros para otimizar. Para mostrar essas vantagens, vamos aproveitar para otimizar também outros hiperparâmetros da árvore de decisão."
      ]
    },
    {
      "cell_type": "code",
      "metadata": {
        "id": "IusaOXjWVATK",
        "colab_type": "code",
        "outputId": "570c1180-09ed-4bdb-eb1a-c4bde3b5e50b",
        "colab": {
          "base_uri": "https://localhost:8080/",
          "height": 101
        }
      },
      "source": [
        "# Importando o Random Search com cross-validation\n",
        "from sklearn.model_selection import RandomizedSearchCV\n",
        "\n",
        "# Definindo o Random Search CV. Vamos fornecer o argumento n_iter, que fala quantas configurações de hparams testar:\n",
        "random_search_cv = RandomizedSearchCV(estimator = DecisionTreeClassifier(random_state = 37),\n",
        "                              param_distributions = {'max_depth':range(1,50),         # Testando comprimentos máximos de 1 a 50\n",
        "                                                     'min_samples_leaf':range(1,20)}, # O mínimo de amostras por folha, de 1 a 20\n",
        "                              scoring='roc_auc', \n",
        "                              cv = 3,\n",
        "                              n_iter = 50)\n",
        "\n",
        "# Realizando a otimização por GridSearch para os dados de cancer de mama:\n",
        "random_search_cv.fit(entradas,saida)\n",
        "\n",
        "#Vamos ver informações relevantes:\n",
        "print('Melhor comprimento máximo: {}'.format(random_search_cv.best_params_['max_depth']))\n",
        "print('Melhor minimo de amostras por folha: {}'.format(random_search_cv.best_params_['min_samples_leaf']))\n",
        "print('Desempenho AUC-ROC do melhor modelo: {}'.format(round(random_search_cv.best_score_,3)))\n",
        "print('Tempo para realizar a otimização:')\n",
        "%timeit -n 1 -r 1 random_search_cv.fit(entradas,saida)"
      ],
      "execution_count": 0,
      "outputs": [
        {
          "output_type": "stream",
          "text": [
            "Melhor comprimento máximo: 36\n",
            "Melhor minimo de amostras por folha: 15\n",
            "Desempenho AUC-ROC do melhor modelo: 0.97\n",
            "Tempo para realizar a otimização:\n",
            "1 loop, best of 1: 924 ms per loop\n"
          ],
          "name": "stdout"
        }
      ]
    },
    {
      "cell_type": "markdown",
      "metadata": {
        "id": "9O8CpXd7VATM",
        "colab_type": "text"
      },
      "source": [
        "Muito bom! Conseguimos aumentar o desempenho do modelo e ainda diminuir o tempo de execução. Para conjuntos de dados maiores, essa melhoria aumenta mais ainda. Porém, ainda existem alternativas mais sofisticadas e mais rápidas que Random Search..."
      ]
    },
    {
      "cell_type": "markdown",
      "metadata": {
        "id": "tyYrUapuVATN",
        "colab_type": "text"
      },
      "source": [
        "### 3. Bayes Search\n"
      ]
    },
    {
      "cell_type": "markdown",
      "metadata": {
        "id": "2O2dlWPhBfQq",
        "colab_type": "text"
      },
      "source": [
        "<figure>\n",
        "<center>\n",
        "<img src= 'https://drive.google.com/uc?id=1jJ1L23Qitx3V6Ja2fR_oRqttDJS-DgVT'width=\"600\" height=\"300\"/>\n",
        "</center>\n",
        "</figure>"
      ]
    },
    {
      "cell_type": "markdown",
      "metadata": {
        "id": "7B2LN7jsa_fF",
        "colab_type": "text"
      },
      "source": [
        "Subindo na liga dos algoritmos de otimização, nos deparamos com este método. **[Bayes Search](https://scikit-optimize.github.io/stable/modules/generated/skopt.BayesSearchCV.html#skopt.BayesSearchCV), ou busca bayesiana, tenta estimar qual é a combinação de hiperparâmetros que resultará na maior performance**, com base nas combinações testadas anteriormente. O ganho de desempenho que esse algoritmo proporciona é brutal em relação aos anteriores e é uma das melhores escolhas para datasets gigantes e modelos com muitos hiperparâmetros. "
      ]
    },
    {
      "cell_type": "code",
      "metadata": {
        "id": "j7c0XQ7pWBqj",
        "colab_type": "code",
        "outputId": "ec751518-6704-47c3-b5c1-2e3446633a52",
        "colab": {
          "base_uri": "https://localhost:8080/",
          "height": 134
        }
      },
      "source": [
        "#Instalando modulo necessario\n",
        "!pip install scikit-optimize"
      ],
      "execution_count": 0,
      "outputs": [
        {
          "output_type": "stream",
          "text": [
            "Requirement already satisfied: scikit-optimize in /usr/local/lib/python3.6/dist-packages (0.7.4)\n",
            "Requirement already satisfied: numpy>=1.11.0 in /usr/local/lib/python3.6/dist-packages (from scikit-optimize) (1.18.2)\n",
            "Requirement already satisfied: joblib>=0.11 in /usr/local/lib/python3.6/dist-packages (from scikit-optimize) (0.14.1)\n",
            "Requirement already satisfied: pyaml>=16.9 in /usr/local/lib/python3.6/dist-packages (from scikit-optimize) (20.3.1)\n",
            "Requirement already satisfied: scipy>=0.18.0 in /usr/local/lib/python3.6/dist-packages (from scikit-optimize) (1.4.1)\n",
            "Requirement already satisfied: scikit-learn>=0.19.1 in /usr/local/lib/python3.6/dist-packages (from scikit-optimize) (0.22.2.post1)\n",
            "Requirement already satisfied: PyYAML in /usr/local/lib/python3.6/dist-packages (from pyaml>=16.9->scikit-optimize) (3.13)\n"
          ],
          "name": "stdout"
        }
      ]
    },
    {
      "cell_type": "code",
      "metadata": {
        "id": "TlpW92y5VATO",
        "colab_type": "code",
        "outputId": "0863413d-689f-46b9-cae7-3df21ed4cf3e",
        "colab": {
          "base_uri": "https://localhost:8080/",
          "height": 101
        }
      },
      "source": [
        "# Filtrando avisos \n",
        "import warnings\n",
        "warnings.filterwarnings('ignore')\n",
        "\n",
        "# Importando o Bayes Search com cross-validation:\n",
        "from skopt import BayesSearchCV\n",
        "\n",
        "# Importando espaços de busca\n",
        "from skopt.space import Integer\n",
        "\n",
        "# Definindo o Random Search CV. Vamos fornecer o argumento n_iter, que fala quantas configurações de hparams testar:\n",
        "bayes_search_cv = BayesSearchCV(estimator = DecisionTreeClassifier(random_state = 37),\n",
        "                              search_spaces = {'max_depth':Integer(1,50),        # Testando comprimentos máximos de 1 a 50\n",
        "                                              'min_samples_leaf':Integer(1,20)}, # O mínimo de amostras por folha, de 1 a 20\n",
        "                              scoring='roc_auc', \n",
        "                              cv = 3,\n",
        "                              n_iter = 50, random_state=37)\n",
        "\n",
        "# Realizando a otimização por GridSearch para os dados de cancer de mama:\n",
        "bayes_search_cv.fit(entradas,saida)\n",
        "\n",
        "#Vamos ver informações relevantes:\n",
        "print('Melhor comprimento maximo: {}'.format(bayes_search_cv.best_params_['max_depth']))\n",
        "print('Melhor minimo de amostras por folha: {}'.format(bayes_search_cv.best_params_['min_samples_leaf']))\n",
        "print('Desempenho AUC-ROC do melhor modelo: {}'.format(round(bayes_search_cv.best_score_,3)))\n",
        "print('Tempo para realizar a otimização:')\n",
        "%timeit -n 1 -r 1 bayes_search_cv.fit(entradas,saida) "
      ],
      "execution_count": 0,
      "outputs": [
        {
          "output_type": "stream",
          "text": [
            "Melhor comprimento maximo: 39\n",
            "Melhor minimo de amostras por folha: 16\n",
            "Desempenho AUC-ROC do melhor modelo: 0.97\n",
            "Tempo para realizar a otimização:\n",
            "1 loop, best of 1: 50.1 s per loop\n"
          ],
          "name": "stdout"
        }
      ]
    },
    {
      "cell_type": "markdown",
      "metadata": {
        "id": "f3mVWGRAVATQ",
        "colab_type": "text"
      },
      "source": [
        "Parece que chegamos no desempenho máximo: esse algoritmo de otimização gerou um modelo tão bom quanto o Random Search. No entanto, notamos uma demora maior de execução - o Bayes Search funciona melhor para treinamentos mais complexos e com espaços de busca muito grandes, então para nosso exemplo, Random Search bastaria. Mas fica o aprendizado para os projetos reais!"
      ]
    },
    {
      "cell_type": "markdown",
      "metadata": {
        "id": "z0bz8KmGVATS",
        "colab_type": "text"
      },
      "source": [
        "## Conclusões"
      ]
    },
    {
      "cell_type": "markdown",
      "metadata": {
        "id": "PipqjPcqBbIM",
        "colab_type": "text"
      },
      "source": [
        "Nessa aula, vimos a diferença entre parâmetros e hiperparâmetros e comparamos os algoritmos de otimização de hiperparâmetros mais populares: Grid, Random e Bayes Search. Aplicamos eles a um caso prático de predição de câncer com árvores de decisão. Por fim, refletimos um pouco sobre o escopo de aplicação de cada um desses algoritmos. Se quiser ir além, existem [algoritmos ainda mais modernos para otimizar hiperparâmetros](https://ray.readthedocs.io/en/latest/tune-schedulers.html).\n",
        "\n",
        "Por hoje, é isso. Espero que tenha gostado! <br>\n",
        "Para sugestões, dúvidas e feedbacks, segue meu contato!<br>\n",
        "\n",
        "Lucas Miura Semenzim<br>\n",
        "+11 99878 7085 <br>\n",
        "luc.ms22@gmail.com"
      ]
    },
    {
      "cell_type": "markdown",
      "metadata": {
        "id": "LmkVz7h-BSmf",
        "colab_type": "text"
      },
      "source": [
        "## Apêndices"
      ]
    },
    {
      "cell_type": "code",
      "metadata": {
        "id": "iDKjbMP1q5d-",
        "colab_type": "code",
        "outputId": "b356e343-54ae-4699-f358-e071bf8d3d2c",
        "colab": {
          "base_uri": "https://localhost:8080/",
          "height": 503
        }
      },
      "source": [
        "'''Código fonte para a imagem principal da aula'''\n",
        "\n",
        "# Importando o que precisamos\n",
        "from sklearn.tree import DecisionTreeClassifier\n",
        "from sklearn.datasets import load_breast_cancer\n",
        "from sklearn.metrics import f1_score\n",
        "from sklearn.model_selection import cross_val_score\n",
        "\n",
        "# Carregando o conjunto de dados\n",
        "entradas, saida = load_breast_cancer(return_X_y=True)\n",
        "\n",
        "# Vamos passar o modelo preditivo, os dados de entrada e saida, a funcao de desempenho e o numero de particoes para a funcao de \n",
        "# validacao cruzada\n",
        "desempenho_cross_val = cross_val_score(estimator = DecisionTreeClassifier(random_state=37),\n",
        "                                       X = entradas, \n",
        "                                       y = saida,\n",
        "                                       scoring = 'roc_auc',\n",
        "                                       cv = 3)\n",
        "\n",
        "print('Desempenho médio de AUC-ROC: {}'.format(round(desempenho_cross_val.mean(),3)))\n",
        "# Importando o Random Search com cross-validation\n",
        "from sklearn.model_selection import RandomizedSearchCV\n",
        "\n",
        "# Definindo o Random Search CV. Vamos fornecer o argumento n_iter, que fala quantas configurações de hparams testar:\n",
        "random_search_cv = RandomizedSearchCV(estimator = DecisionTreeClassifier(random_state = 37),\n",
        "                              param_distributions = {'min_weight_fraction_leaf':[ix/2001 for ix in range(1,200)], \n",
        "                                            'min_samples_leaf':range(1,450)} , \n",
        "                              scoring='f1', \n",
        "                              cv = 3,\n",
        "                              n_iter = 5000)\n",
        "\n",
        "# Realizando a otimização por GridSearch para os dados de cancer de mama:\n",
        "random_search_cv.fit(entradas,saida)\n",
        "\n",
        "# Transpondo os dados para um DataFrame\n",
        "import pandas as pd\n",
        "import numpy as np\n",
        "df = pd.DataFrame(random_search_cv.cv_results_).dropna()[['param_min_samples_leaf','param_min_weight_fraction_leaf','mean_test_score']].apply(lambda col: col.astype(np.float64))\n",
        "df.info()\n",
        "\n",
        "#Plotando o gráfico\n",
        "from matplotlib import pyplot as plt\n",
        "fig, ax = plt.subplots(figsize=(17,5))\n",
        "\n",
        "y = df['param_min_samples_leaf']\n",
        "x = df['param_min_weight_fraction_leaf']\n",
        "score = df['mean_test_score']\n",
        "\n",
        "cntr = ax.tricontourf(x, y, score, levels=20, cmap=\"cividis\")\n",
        "ax.scatter(x, y, c= 'w',alpha=0.1,s=1)\n",
        "\n",
        "fig.colorbar(cntr, ax=ax, label=\"valor AUC-ROC\")\n",
        "\n",
        "ax.set(\n",
        "    xlim=(min(x), max(x)),\n",
        "    ylim=(min(y), max(y)),\n",
        "    xlabel=\"Mínima fração de peso/folha\",\n",
        "    ylabel=\"Mínimo número de amostras/folha\",\n",
        ")\n",
        "ax.set_title('Paisagem de performance da Árvore de Decisão')\n",
        "\n",
        "plt.show()\n",
        "\n",
        "fig.savefig('/media/head.png')"
      ],
      "execution_count": 0,
      "outputs": [
        {
          "output_type": "stream",
          "text": [
            "Desempenho médio de AUC-ROC: 0.916\n",
            "<class 'pandas.core.frame.DataFrame'>\n",
            "Int64Index: 5000 entries, 0 to 4999\n",
            "Data columns (total 3 columns):\n",
            "param_min_samples_leaf            5000 non-null float64\n",
            "param_min_weight_fraction_leaf    5000 non-null float64\n",
            "mean_test_score                   5000 non-null float64\n",
            "dtypes: float64(3)\n",
            "memory usage: 156.2 KB\n"
          ],
          "name": "stdout"
        },
        {
          "output_type": "display_data",
          "data": {
            "image/png": "[encoded data removed]",
            "text/plain": [
              "<Figure size 1224x360 with 2 Axes>"
            ]
          },
          "metadata": {
            "tags": []
          }
        }
      ]
    }
  ]
}