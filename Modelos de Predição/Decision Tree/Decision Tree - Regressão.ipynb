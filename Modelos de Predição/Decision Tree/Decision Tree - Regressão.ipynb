{
 "cells": [
  {
   "cell_type": "markdown",
   "metadata": {},
   "source": [
    "### Setup"
   ]
  },
  {
   "cell_type": "code",
   "execution_count": 1,
   "metadata": {},
   "outputs": [],
   "source": [
    "# imports básicos\n",
    "from sklearn import tree\n",
    "from sklearn.datasets import load_boston\n",
    "from sklearn.model_selection import cross_val_score"
   ]
  },
  {
   "cell_type": "markdown",
   "metadata": {},
   "source": [
    "### Carregando o dataset"
   ]
  },
  {
   "cell_type": "code",
   "execution_count": 2,
   "metadata": {},
   "outputs": [],
   "source": [
    "# carregamos o dataset \n",
    "boston = load_boston()\n",
    "# separamos as features e os targets\n",
    "X = boston.data\n",
    "y = boston.target"
   ]
  },
  {
   "cell_type": "markdown",
   "metadata": {},
   "source": [
    "### Definimos a árvore de decisão com CART"
   ]
  },
  {
   "cell_type": "code",
   "execution_count": 3,
   "metadata": {},
   "outputs": [],
   "source": [
    "reg = tree.DecisionTreeRegressor()"
   ]
  },
  {
   "cell_type": "code",
   "execution_count": 4,
   "metadata": {},
   "outputs": [],
   "source": [
    "# construimos a árvore a partir do dataset\n",
    "bostonTree = reg.fit(X[:-50], y[:-50])"
   ]
  },
  {
   "cell_type": "markdown",
   "metadata": {},
   "source": [
    "Desse modo podemos fazer predições no dataset com a função **predict**."
   ]
  },
  {
   "cell_type": "code",
   "execution_count": 5,
   "metadata": {},
   "outputs": [
    {
     "data": {
      "text/plain": [
       "array([14.8, 15.1, 13.4, 13.4, 14.3, 15.6, 21.7, 22.7, 21.7, 20.8, 14.8,\n",
       "       13.5,  8.3, 10.2, 14.8, 22.7, 23. , 28.7, 15.1, 13.4, 15.2, 13.9,\n",
       "       14.1, 21.7, 22.7, 22.8, 28.7, 15. , 24.7, 20.8, 23.2, 22.7, 16.2,\n",
       "       16.2, 16.2, 17.3, 19.6, 17.4, 24.7, 19.4, 19.4, 17.4, 19.6, 19.4,\n",
       "       19.6, 28.4, 22.6, 26.7, 28.4, 22.2])"
      ]
     },
     "execution_count": 5,
     "metadata": {},
     "output_type": "execute_result"
    }
   ],
   "source": [
    "bostonTree.predict(X[-50:])"
   ]
  },
  {
   "cell_type": "code",
   "execution_count": 6,
   "metadata": {},
   "outputs": [
    {
     "data": {
      "text/plain": [
       "0.057292356954657175"
      ]
     },
     "execution_count": 6,
     "metadata": {},
     "output_type": "execute_result"
    }
   ],
   "source": [
    "# score usando os últimos 50 valores como dados de teste\n",
    "# a métrica usada para calcular o score é o R2\n",
    "bostonTree.score(X[-50:], y[-50:])"
   ]
  },
  {
   "cell_type": "markdown",
   "metadata": {},
   "source": [
    "### Cross Validation"
   ]
  },
  {
   "cell_type": "code",
   "execution_count": 7,
   "metadata": {},
   "outputs": [
    {
     "name": "stdout",
     "output_type": "stream",
     "text": [
      "[ 0.53910678  0.54496984 -1.44996854  0.41800621  0.77377195  0.4299008\n",
      " -0.18027243  0.36214829 -4.14955758  0.11779207]\n"
     ]
    }
   ],
   "source": [
    "# scores das validações cruzadas\n",
    "allScores = cross_val_score(reg, X, y, cv=10)\n",
    "print(allScores)"
   ]
  },
  {
   "cell_type": "code",
   "execution_count": 8,
   "metadata": {},
   "outputs": [
    {
     "data": {
      "text/plain": [
       "-0.2594102609308779"
      ]
     },
     "execution_count": 8,
     "metadata": {},
     "output_type": "execute_result"
    }
   ],
   "source": [
    "# média dos scores\n",
    "allScores.mean()"
   ]
  }
 ],
 "metadata": {
  "kernelspec": {
   "display_name": "Python 3",
   "language": "python",
   "name": "python3"
  },
  "language_info": {
   "codemirror_mode": {
    "name": "ipython",
    "version": 3
   },
   "file_extension": ".py",
   "mimetype": "text/x-python",
   "name": "python",
   "nbconvert_exporter": "python",
   "pygments_lexer": "ipython3",
   "version": "3.6.5"
  }
 },
 "nbformat": 4,
 "nbformat_minor": 2
}