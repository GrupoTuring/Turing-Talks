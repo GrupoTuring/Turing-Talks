{
  "nbformat": 4,
  "nbformat_minor": 0,
  "metadata": {
    "colab": {
      "name": "ridge_lasso.ipynb",
      "provenance": [],
      "collapsed_sections": []
    },
    "kernelspec": {
      "name": "python3",
      "display_name": "Python 3"
    }
  },
  "cells": [
    {
      "cell_type": "markdown",
      "metadata": {
        "id": "iXnYIUGATrvf",
        "colab_type": "text"
      },
      "source": [
        "# Imports básicos"
      ]
    },
    {
      "cell_type": "code",
      "metadata": {
        "id": "sw2aBUADVeN0",
        "colab_type": "code",
        "colab": {}
      },
      "source": [
        "from sklearn import datasets\n",
        "from sklearn.linear_model import Ridge, Lasso, ElasticNet\n",
        "from sklearn.model_selection import cross_val_score"
      ],
      "execution_count": 1,
      "outputs": []
    },
    {
      "cell_type": "code",
      "metadata": {
        "id": "PvQisj3tWYQ_",
        "colab_type": "code",
        "colab": {}
      },
      "source": [
        "boston = datasets.load_boston()"
      ],
      "execution_count": 2,
      "outputs": []
    },
    {
      "cell_type": "markdown",
      "metadata": {
        "id": "aDH8FIyuW_D_",
        "colab_type": "text"
      },
      "source": [
        "# Descrição do Dataset"
      ]
    },
    {
      "cell_type": "code",
      "metadata": {
        "id": "iIHL5G6NWq8F",
        "colab_type": "code",
        "outputId": "dd589611-0c18-4f9d-9e91-5ff2165d2899",
        "colab": {
          "base_uri": "https://localhost:8080/",
          "height": 955
        }
      },
      "source": [
        "print(boston.DESCR)"
      ],
      "execution_count": 3,
      "outputs": [
        {
          "output_type": "stream",
          "text": [
            ".. _boston_dataset:\n",
            "\n",
            "Boston house prices dataset\n",
            "---------------------------\n",
            "\n",
            "**Data Set Characteristics:**  \n",
            "\n",
            "    :Number of Instances: 506 \n",
            "\n",
            "    :Number of Attributes: 13 numeric/categorical predictive. Median Value (attribute 14) is usually the target.\n",
            "\n",
            "    :Attribute Information (in order):\n",
            "        - CRIM     per capita crime rate by town\n",
            "        - ZN       proportion of residential land zoned for lots over 25,000 sq.ft.\n",
            "        - INDUS    proportion of non-retail business acres per town\n",
            "        - CHAS     Charles River dummy variable (= 1 if tract bounds river; 0 otherwise)\n",
            "        - NOX      nitric oxides concentration (parts per 10 million)\n",
            "        - RM       average number of rooms per dwelling\n",
            "        - AGE      proportion of owner-occupied units built prior to 1940\n",
            "        - DIS      weighted distances to five Boston employment centres\n",
            "        - RAD      index of accessibility to radial highways\n",
            "        - TAX      full-value property-tax rate per $10,000\n",
            "        - PTRATIO  pupil-teacher ratio by town\n",
            "        - B        1000(Bk - 0.63)^2 where Bk is the proportion of blacks by town\n",
            "        - LSTAT    % lower status of the population\n",
            "        - MEDV     Median value of owner-occupied homes in $1000's\n",
            "\n",
            "    :Missing Attribute Values: None\n",
            "\n",
            "    :Creator: Harrison, D. and Rubinfeld, D.L.\n",
            "\n",
            "This is a copy of UCI ML housing dataset.\n",
            "https://archive.ics.uci.edu/ml/machine-learning-databases/housing/\n",
            "\n",
            "\n",
            "This dataset was taken from the StatLib library which is maintained at Carnegie Mellon University.\n",
            "\n",
            "The Boston house-price data of Harrison, D. and Rubinfeld, D.L. 'Hedonic\n",
            "prices and the demand for clean air', J. Environ. Economics & Management,\n",
            "vol.5, 81-102, 1978.   Used in Belsley, Kuh & Welsch, 'Regression diagnostics\n",
            "...', Wiley, 1980.   N.B. Various transformations are used in the table on\n",
            "pages 244-261 of the latter.\n",
            "\n",
            "The Boston house-price data has been used in many machine learning papers that address regression\n",
            "problems.   \n",
            "     \n",
            ".. topic:: References\n",
            "\n",
            "   - Belsley, Kuh & Welsch, 'Regression diagnostics: Identifying Influential Data and Sources of Collinearity', Wiley, 1980. 244-261.\n",
            "   - Quinlan,R. (1993). Combining Instance-Based and Model-Based Learning. In Proceedings on the Tenth International Conference of Machine Learning, 236-243, University of Massachusetts, Amherst. Morgan Kaufmann.\n",
            "\n"
          ],
          "name": "stdout"
        }
      ]
    },
    {
      "cell_type": "markdown",
      "metadata": {
        "id": "nFUAUZmxXNxg",
        "colab_type": "text"
      },
      "source": [
        "# Separação dos dados"
      ]
    },
    {
      "cell_type": "code",
      "metadata": {
        "id": "pEjCVaI3W9SM",
        "colab_type": "code",
        "colab": {}
      },
      "source": [
        "X = boston.data\n",
        "y = boston.target"
      ],
      "execution_count": 4,
      "outputs": []
    },
    {
      "cell_type": "markdown",
      "metadata": {
        "id": "VoDUBBwHZPfm",
        "colab_type": "text"
      },
      "source": [
        "# Forma básica dos modelos"
      ]
    },
    {
      "cell_type": "markdown",
      "metadata": {
        "id": "6ATzDu6aZuH0",
        "colab_type": "text"
      },
      "source": [
        "Os modelos que veremos a seguir necessitam receber o hiperparâmetro alpha ($\\alpha$), que foi apresentado no texto.\n",
        "\n"
      ]
    },
    {
      "cell_type": "markdown",
      "metadata": {
        "id": "37hd1Qb0ZsEc",
        "colab_type": "text"
      },
      "source": [
        "## Ridge"
      ]
    },
    {
      "cell_type": "code",
      "metadata": {
        "id": "VG1KyzUzZUxE",
        "colab_type": "code",
        "outputId": "56421e8a-532f-473a-d5b3-98dbba64d563",
        "colab": {
          "base_uri": "https://localhost:8080/",
          "height": 35
        }
      },
      "source": [
        "# definição da regressão por Ridge com alpha = 1\n",
        "ridge_regr = Ridge(alpha=1)\n",
        "score_ridge = cross_val_score(ridge_regr, X, y, cv=10, scoring=\"neg_mean_squared_error\")\n",
        "print(score_ridge.mean())"
      ],
      "execution_count": 5,
      "outputs": [
        {
          "output_type": "stream",
          "text": [
            "-34.07824620925938\n"
          ],
          "name": "stdout"
        }
      ]
    },
    {
      "cell_type": "markdown",
      "metadata": {
        "id": "Z-C_MyYhb4fI",
        "colab_type": "text"
      },
      "source": [
        "## Lasso"
      ]
    },
    {
      "cell_type": "code",
      "metadata": {
        "id": "nI_Kr2I1b6oj",
        "colab_type": "code",
        "outputId": "5b9e022a-2dde-4b4f-eebe-5f6bd0e878d3",
        "colab": {
          "base_uri": "https://localhost:8080/",
          "height": 35
        }
      },
      "source": [
        "# definição da regressão de Lasso com alpha = 0.1\n",
        "lasso_regr = Lasso(alpha=0.1)\n",
        "score_lasso = cross_val_score(lasso_regr, X, y, cv=10, scoring=\"neg_mean_squared_error\")\n",
        "print(score_lasso.mean())"
      ],
      "execution_count": 6,
      "outputs": [
        {
          "output_type": "stream",
          "text": [
            "-34.17996192308159\n"
          ],
          "name": "stdout"
        }
      ]
    },
    {
      "cell_type": "markdown",
      "metadata": {
        "id": "9tKyHfcrcgqm",
        "colab_type": "text"
      },
      "source": [
        "## ElasticNet"
      ]
    },
    {
      "cell_type": "code",
      "metadata": {
        "id": "5dre0xk4ckda",
        "colab_type": "code",
        "outputId": "13574bab-ffd9-48ad-c1f8-82082afd5d35",
        "colab": {
          "base_uri": "https://localhost:8080/",
          "height": 35
        }
      },
      "source": [
        "# definição da regressão por ElasticNet com alpha = 1 e l1_ratio = 0.5\n",
        "en_regr = ElasticNet(alpha=1, l1_ratio=0.5)\n",
        "score_en = cross_val_score(en_regr, X, y, cv=10, scoring=\"neg_mean_squared_error\")\n",
        "print(score_en.mean())"
      ],
      "execution_count": 7,
      "outputs": [
        {
          "output_type": "stream",
          "text": [
            "-31.164573714249762\n"
          ],
          "name": "stdout"
        }
      ]
    },
    {
      "cell_type": "markdown",
      "metadata": {
        "id": "ICYwkb18aG4g",
        "colab_type": "text"
      },
      "source": [
        "# Escolha automátizada dos hiperparâmtros com validação cruzada"
      ]
    },
    {
      "cell_type": "markdown",
      "metadata": {
        "id": "4zuCV4PCdbqy",
        "colab_type": "text"
      },
      "source": [
        "Usando os métodos acima temos que enfrentar o problema de obter os hiperparâmetros ótimos para o problema. Porém, é possível usar validação cruzada para determiná-los."
      ]
    },
    {
      "cell_type": "code",
      "metadata": {
        "id": "Gihw1DQxd1Uz",
        "colab_type": "code",
        "colab": {}
      },
      "source": [
        "from sklearn.linear_model import RidgeCV, LassoCV, ElasticNetCV"
      ],
      "execution_count": 8,
      "outputs": []
    },
    {
      "cell_type": "markdown",
      "metadata": {
        "id": "c1uMvGhvaPd2",
        "colab_type": "text"
      },
      "source": [
        "## [RidgeCV](https://scikit-learn.org/stable/modules/generated/sklearn.linear_model.RidgeCV.html#sklearn.linear_model.RidgeCV)"
      ]
    },
    {
      "cell_type": "code",
      "metadata": {
        "id": "WrKPlhARnE34",
        "colab_type": "code",
        "outputId": "908b72ee-eada-49a8-96fa-88f81b908104",
        "colab": {
          "base_uri": "https://localhost:8080/",
          "height": 415
        }
      },
      "source": [
        "regr_ridgeCV = RidgeCV(cv=10)\n",
        "score_ridge = cross_val_score(regr_ridgeCV, X, y, cv=10, scoring=\"neg_mean_squared_error\")\n",
        "print(score_ridge.mean())"
      ],
      "execution_count": 9,
      "outputs": [
        {
          "output_type": "stream",
          "text": [
            "-33.60560958359869\n"
          ],
          "name": "stdout"
        }
      ]
    },
    {
      "cell_type": "code",
      "metadata": {
        "id": "XYc_rqx9lQtl",
        "colab_type": "code",
        "outputId": "37f8d9b9-c894-49f8-dcb0-98ebb5d9a4aa",
        "colab": {
          "base_uri": "https://localhost:8080/",
          "height": 91
        }
      },
      "source": [
        "# Valor encontrado por validação cruzada\n",
        "regr_ridgeCV.fit(X, y)\n",
        "regr_ridgeCV.alpha_"
      ],
      "execution_count": 10,
      "outputs": [
        {
          "output_type": "execute_result",
          "data": {
            "text/plain": [
              "10.0"
            ]
          },
          "metadata": {
            "tags": []
          }
        }
      ]
    },
    {
      "cell_type": "markdown",
      "metadata": {
        "id": "xUuCm7QmaSeN",
        "colab_type": "text"
      },
      "source": [
        "## [LassoCV](http://scikit-learn.org/stable/modules/generated/sklearn.linear_model.LassoCV.html#sklearn.linear_model.LassoCV)"
      ]
    },
    {
      "cell_type": "code",
      "metadata": {
        "id": "N4uk-Kr7aYXP",
        "colab_type": "code",
        "outputId": "a902b8ff-e3af-427d-8a30-df072279e9d7",
        "colab": {
          "base_uri": "https://localhost:8080/",
          "height": 35
        }
      },
      "source": [
        "regr_lassoCV = LassoCV(cv=10, eps=1e-4)\n",
        "score_lasso = cross_val_score(regr_lassoCV, X, y, cv=10, scoring=\"neg_mean_squared_error\")\n",
        "print(score_lasso.mean())"
      ],
      "execution_count": 11,
      "outputs": [
        {
          "output_type": "stream",
          "text": [
            "-33.7098803600206\n"
          ],
          "name": "stdout"
        }
      ]
    },
    {
      "cell_type": "code",
      "metadata": {
        "id": "xdwWmfBtlacB",
        "colab_type": "code",
        "colab": {}
      },
      "source": [
        "# Valor encontrado por validação cruzada\n",
        "regr_lassoCV.fit(X, y)\n",
        "regr_lassoCV.alpha_"
      ],
      "execution_count": 12,
      "outputs": [
        {
          "output_type": "execute_result",
          "data": {
            "text/plain": [
              "0.5612021341578892\n"
            ]
          },
          "metadata": {
            "tags": []
          }
        }
      ]
    },
    {
      "cell_type": "markdown",
      "metadata": {
        "id": "PWrITVnMaU7m",
        "colab_type": "text"
      },
      "source": [
        "## [ElasticNetCV](https://scikit-learn.org/stable/modules/generated/sklearn.linear_model.ElasticNetCV.html#sklearn.linear_model.ElasticNetCV)"
      ]
    },
    {
      "cell_type": "code",
      "metadata": {
        "id": "Wnj91ccDaOmw",
        "colab_type": "code",
        "outputId": "f940be8e-72fe-4cf4-9087-b60ab7855f15",
        "colab": {
          "base_uri": "https://localhost:8080/",
          "height": 35
        }
      },
      "source": [
        "regr_enCV = ElasticNetCV(l1_ratio=0.5, cv=10, eps=1e-4)\n",
        "score_en = cross_val_score(regr_enCV, X, y, cv=10, scoring=\"neg_mean_squared_error\")\n",
        "print(score_en.mean())"
      ],
      "execution_count": 13,
      "outputs": [
        {
          "output_type": "stream",
          "text": [
            "-33.735162042260114\n"
          ],
          "name": "stdout"
        }
      ]
    },
    {
      "cell_type": "code",
      "metadata": {
        "id": "l32EHS__llan",
        "colab_type": "code",
        "outputId": "4efdf102-e502-46ea-a0d0-4d3a84a33e47",
        "colab": {
          "base_uri": "https://localhost:8080/",
          "height": 35
        }
      },
      "source": [
        "# Valores encontrado por validação cruzada\n",
        "regr_enCV.fit(X, y)\n",
        "regr_enCV.alpha_, regr_enCV.l1_ratio_"
      ],
      "execution_count": 14,
      "outputs": [
        {
          "output_type": "execute_result",
          "data": {
            "text/plain": [
              "(0.4382691496523373, 0.5)"
            ]
          },
          "metadata": {
            "tags": []
          }
        }
      ]
    }
  ]
}
